{
 "cells": [
  {
   "cell_type": "code",
   "execution_count": 4,
   "id": "5a5915db",
   "metadata": {},
   "outputs": [],
   "source": [
    "import pandas as pd"
   ]
  },
  {
   "cell_type": "code",
   "execution_count": 5,
   "id": "14c56641",
   "metadata": {},
   "outputs": [],
   "source": [
    "df = pd.read_excel(r'dataset.xlsx')"
   ]
  },
  {
   "cell_type": "code",
   "execution_count": 6,
   "id": "4addf704",
   "metadata": {},
   "outputs": [
    {
     "data": {
      "text/html": [
       "<div>\n",
       "<style scoped>\n",
       "    .dataframe tbody tr th:only-of-type {\n",
       "        vertical-align: middle;\n",
       "    }\n",
       "\n",
       "    .dataframe tbody tr th {\n",
       "        vertical-align: top;\n",
       "    }\n",
       "\n",
       "    .dataframe thead th {\n",
       "        text-align: right;\n",
       "    }\n",
       "</style>\n",
       "<table border=\"1\" class=\"dataframe\">\n",
       "  <thead>\n",
       "    <tr style=\"text-align: right;\">\n",
       "      <th></th>\n",
       "      <th>Price</th>\n",
       "      <th>Rooms</th>\n",
       "      <th>Area</th>\n",
       "      <th>Floor</th>\n",
       "    </tr>\n",
       "  </thead>\n",
       "  <tbody>\n",
       "    <tr>\n",
       "      <th>0</th>\n",
       "      <td>2 673 000 000 сум</td>\n",
       "      <td>4-комн. квартира</td>\n",
       "      <td>150м2</td>\n",
       "      <td>3/9эт.</td>\n",
       "    </tr>\n",
       "    <tr>\n",
       "      <th>1</th>\n",
       "      <td>402 000 000 сум</td>\n",
       "      <td>3-комн. квартира</td>\n",
       "      <td>82м2</td>\n",
       "      <td>10/12эт.</td>\n",
       "    </tr>\n",
       "    <tr>\n",
       "      <th>2</th>\n",
       "      <td>435 000 000 сум</td>\n",
       "      <td>3-комн. квартира</td>\n",
       "      <td>72м2</td>\n",
       "      <td>4/4эт.</td>\n",
       "    </tr>\n",
       "    <tr>\n",
       "      <th>3</th>\n",
       "      <td>357 000 000 сум</td>\n",
       "      <td>1-комн. квартира</td>\n",
       "      <td>40м2</td>\n",
       "      <td>5/5эт.</td>\n",
       "    </tr>\n",
       "    <tr>\n",
       "      <th>4</th>\n",
       "      <td>1 068 000 000 сум</td>\n",
       "      <td>3-комн. квартира</td>\n",
       "      <td>80м2</td>\n",
       "      <td>2/7эт.</td>\n",
       "    </tr>\n",
       "  </tbody>\n",
       "</table>\n",
       "</div>"
      ],
      "text/plain": [
       "               Price             Rooms   Area     Floor\n",
       "0  2 673 000 000 сум  4-комн. квартира  150м2    3/9эт.\n",
       "1    402 000 000 сум  3-комн. квартира   82м2  10/12эт.\n",
       "2    435 000 000 сум  3-комн. квартира   72м2    4/4эт.\n",
       "3    357 000 000 сум  1-комн. квартира   40м2    5/5эт.\n",
       "4  1 068 000 000 сум  3-комн. квартира   80м2    2/7эт."
      ]
     },
     "execution_count": 6,
     "metadata": {},
     "output_type": "execute_result"
    }
   ],
   "source": [
    "df.head()"
   ]
  },
  {
   "cell_type": "code",
   "execution_count": 7,
   "id": "edf24848",
   "metadata": {},
   "outputs": [
    {
     "data": {
      "text/html": [
       "<div>\n",
       "<style scoped>\n",
       "    .dataframe tbody tr th:only-of-type {\n",
       "        vertical-align: middle;\n",
       "    }\n",
       "\n",
       "    .dataframe tbody tr th {\n",
       "        vertical-align: top;\n",
       "    }\n",
       "\n",
       "    .dataframe thead th {\n",
       "        text-align: right;\n",
       "    }\n",
       "</style>\n",
       "<table border=\"1\" class=\"dataframe\">\n",
       "  <thead>\n",
       "    <tr style=\"text-align: right;\">\n",
       "      <th></th>\n",
       "      <th>Price</th>\n",
       "      <th>Rooms</th>\n",
       "      <th>Area</th>\n",
       "      <th>Floor</th>\n",
       "    </tr>\n",
       "  </thead>\n",
       "  <tbody>\n",
       "    <tr>\n",
       "      <th>0</th>\n",
       "      <td>2673000000</td>\n",
       "      <td>4-комн. квартира</td>\n",
       "      <td>150м2</td>\n",
       "      <td>3/9эт.</td>\n",
       "    </tr>\n",
       "    <tr>\n",
       "      <th>1</th>\n",
       "      <td>402000000</td>\n",
       "      <td>3-комн. квартира</td>\n",
       "      <td>82м2</td>\n",
       "      <td>10/12эт.</td>\n",
       "    </tr>\n",
       "    <tr>\n",
       "      <th>2</th>\n",
       "      <td>435000000</td>\n",
       "      <td>3-комн. квартира</td>\n",
       "      <td>72м2</td>\n",
       "      <td>4/4эт.</td>\n",
       "    </tr>\n",
       "    <tr>\n",
       "      <th>3</th>\n",
       "      <td>357000000</td>\n",
       "      <td>1-комн. квартира</td>\n",
       "      <td>40м2</td>\n",
       "      <td>5/5эт.</td>\n",
       "    </tr>\n",
       "    <tr>\n",
       "      <th>4</th>\n",
       "      <td>1068000000</td>\n",
       "      <td>3-комн. квартира</td>\n",
       "      <td>80м2</td>\n",
       "      <td>2/7эт.</td>\n",
       "    </tr>\n",
       "  </tbody>\n",
       "</table>\n",
       "</div>"
      ],
      "text/plain": [
       "        Price             Rooms   Area     Floor\n",
       "0  2673000000  4-комн. квартира  150м2    3/9эт.\n",
       "1   402000000  3-комн. квартира   82м2  10/12эт.\n",
       "2   435000000  3-комн. квартира   72м2    4/4эт.\n",
       "3   357000000  1-комн. квартира   40м2    5/5эт.\n",
       "4  1068000000  3-комн. квартира   80м2    2/7эт."
      ]
     },
     "execution_count": 7,
     "metadata": {},
     "output_type": "execute_result"
    }
   ],
   "source": [
    "df['Price'] = df['Price'].map(lambda x: x.rstrip(' сум').replace(' ', ''))\n",
    "df.head()"
   ]
  },
  {
   "cell_type": "code",
   "execution_count": 8,
   "id": "b92ee32a",
   "metadata": {},
   "outputs": [
    {
     "data": {
      "text/html": [
       "<div>\n",
       "<style scoped>\n",
       "    .dataframe tbody tr th:only-of-type {\n",
       "        vertical-align: middle;\n",
       "    }\n",
       "\n",
       "    .dataframe tbody tr th {\n",
       "        vertical-align: top;\n",
       "    }\n",
       "\n",
       "    .dataframe thead th {\n",
       "        text-align: right;\n",
       "    }\n",
       "</style>\n",
       "<table border=\"1\" class=\"dataframe\">\n",
       "  <thead>\n",
       "    <tr style=\"text-align: right;\">\n",
       "      <th></th>\n",
       "      <th>Price</th>\n",
       "      <th>Rooms</th>\n",
       "      <th>Area</th>\n",
       "      <th>Floor</th>\n",
       "    </tr>\n",
       "  </thead>\n",
       "  <tbody>\n",
       "    <tr>\n",
       "      <th>0</th>\n",
       "      <td>2673000000</td>\n",
       "      <td>4-комн. квартира</td>\n",
       "      <td>150</td>\n",
       "      <td>3/9эт.</td>\n",
       "    </tr>\n",
       "    <tr>\n",
       "      <th>1</th>\n",
       "      <td>402000000</td>\n",
       "      <td>3-комн. квартира</td>\n",
       "      <td>82</td>\n",
       "      <td>10/12эт.</td>\n",
       "    </tr>\n",
       "    <tr>\n",
       "      <th>2</th>\n",
       "      <td>435000000</td>\n",
       "      <td>3-комн. квартира</td>\n",
       "      <td>72</td>\n",
       "      <td>4/4эт.</td>\n",
       "    </tr>\n",
       "    <tr>\n",
       "      <th>3</th>\n",
       "      <td>357000000</td>\n",
       "      <td>1-комн. квартира</td>\n",
       "      <td>40</td>\n",
       "      <td>5/5эт.</td>\n",
       "    </tr>\n",
       "    <tr>\n",
       "      <th>4</th>\n",
       "      <td>1068000000</td>\n",
       "      <td>3-комн. квартира</td>\n",
       "      <td>80</td>\n",
       "      <td>2/7эт.</td>\n",
       "    </tr>\n",
       "  </tbody>\n",
       "</table>\n",
       "</div>"
      ],
      "text/plain": [
       "        Price             Rooms Area     Floor\n",
       "0  2673000000  4-комн. квартира  150    3/9эт.\n",
       "1   402000000  3-комн. квартира   82  10/12эт.\n",
       "2   435000000  3-комн. квартира   72    4/4эт.\n",
       "3   357000000  1-комн. квартира   40    5/5эт.\n",
       "4  1068000000  3-комн. квартира   80    2/7эт."
      ]
     },
     "execution_count": 8,
     "metadata": {},
     "output_type": "execute_result"
    }
   ],
   "source": [
    "df['Area'] = df['Area'].str[:-2]\n",
    "df.head()"
   ]
  },
  {
   "cell_type": "code",
   "execution_count": 9,
   "id": "510059a1",
   "metadata": {},
   "outputs": [
    {
     "data": {
      "text/html": [
       "<div>\n",
       "<style scoped>\n",
       "    .dataframe tbody tr th:only-of-type {\n",
       "        vertical-align: middle;\n",
       "    }\n",
       "\n",
       "    .dataframe tbody tr th {\n",
       "        vertical-align: top;\n",
       "    }\n",
       "\n",
       "    .dataframe thead th {\n",
       "        text-align: right;\n",
       "    }\n",
       "</style>\n",
       "<table border=\"1\" class=\"dataframe\">\n",
       "  <thead>\n",
       "    <tr style=\"text-align: right;\">\n",
       "      <th></th>\n",
       "      <th>Price</th>\n",
       "      <th>Rooms</th>\n",
       "      <th>Area</th>\n",
       "      <th>Floor</th>\n",
       "    </tr>\n",
       "  </thead>\n",
       "  <tbody>\n",
       "    <tr>\n",
       "      <th>0</th>\n",
       "      <td>2673000000</td>\n",
       "      <td>4-комн. квартира</td>\n",
       "      <td>150</td>\n",
       "      <td>3/9</td>\n",
       "    </tr>\n",
       "    <tr>\n",
       "      <th>1</th>\n",
       "      <td>402000000</td>\n",
       "      <td>3-комн. квартира</td>\n",
       "      <td>82</td>\n",
       "      <td>10/12</td>\n",
       "    </tr>\n",
       "    <tr>\n",
       "      <th>2</th>\n",
       "      <td>435000000</td>\n",
       "      <td>3-комн. квартира</td>\n",
       "      <td>72</td>\n",
       "      <td>4/4</td>\n",
       "    </tr>\n",
       "    <tr>\n",
       "      <th>3</th>\n",
       "      <td>357000000</td>\n",
       "      <td>1-комн. квартира</td>\n",
       "      <td>40</td>\n",
       "      <td>5/5</td>\n",
       "    </tr>\n",
       "    <tr>\n",
       "      <th>4</th>\n",
       "      <td>1068000000</td>\n",
       "      <td>3-комн. квартира</td>\n",
       "      <td>80</td>\n",
       "      <td>2/7</td>\n",
       "    </tr>\n",
       "  </tbody>\n",
       "</table>\n",
       "</div>"
      ],
      "text/plain": [
       "        Price             Rooms Area  Floor\n",
       "0  2673000000  4-комн. квартира  150    3/9\n",
       "1   402000000  3-комн. квартира   82  10/12\n",
       "2   435000000  3-комн. квартира   72    4/4\n",
       "3   357000000  1-комн. квартира   40    5/5\n",
       "4  1068000000  3-комн. квартира   80    2/7"
      ]
     },
     "execution_count": 9,
     "metadata": {},
     "output_type": "execute_result"
    }
   ],
   "source": [
    "df['Floor'] = df['Floor'].map(lambda x: x.rstrip('эт.'))\n",
    "df.head()"
   ]
  },
  {
   "cell_type": "code",
   "execution_count": 10,
   "id": "964af55a",
   "metadata": {},
   "outputs": [
    {
     "data": {
      "text/plain": [
       "array(['4-комн. квартира', '3-комн. квартира', '1-комн. квартира',\n",
       "       '2-комн. квартира', 'Студия', '5-комн. квартира',\n",
       "       '7-комн. квартира', 'Апартаменты', 'Малосемейка'], dtype=object)"
      ]
     },
     "execution_count": 10,
     "metadata": {},
     "output_type": "execute_result"
    }
   ],
   "source": [
    "room_types = df['Rooms'].unique()\n",
    "room_types"
   ]
  },
  {
   "cell_type": "code",
   "execution_count": 11,
   "id": "6b0109f6",
   "metadata": {},
   "outputs": [
    {
     "name": "stdout",
     "output_type": "stream",
     "text": [
      "2-комн. квартира    107\n",
      "3-комн. квартира    104\n",
      "4-комн. квартира     54\n",
      "1-комн. квартира     23\n",
      "Студия                4\n",
      "5-комн. квартира      3\n",
      "7-комн. квартира      2\n",
      "Апартаменты           2\n",
      "Малосемейка           1\n",
      "Name: Rooms, dtype: int64\n"
     ]
    }
   ],
   "source": [
    "print(df['Rooms'].value_counts())"
   ]
  },
  {
   "cell_type": "code",
   "execution_count": 12,
   "id": "6da3e75f",
   "metadata": {},
   "outputs": [],
   "source": [
    "drop_columns = ['Студия','5-комн. квартира', '7-комн. квартира', 'Апартаменты', 'Малосемейка']"
   ]
  },
  {
   "cell_type": "code",
   "execution_count": 13,
   "id": "36697f4c",
   "metadata": {},
   "outputs": [],
   "source": [
    "mask = df['Rooms'].isin(drop_columns)"
   ]
  },
  {
   "cell_type": "code",
   "execution_count": 14,
   "id": "86064b72",
   "metadata": {},
   "outputs": [],
   "source": [
    "df = df[~mask]"
   ]
  },
  {
   "cell_type": "code",
   "execution_count": 15,
   "id": "ad7eab3f",
   "metadata": {},
   "outputs": [
    {
     "name": "stdout",
     "output_type": "stream",
     "text": [
      "2-комн. квартира    107\n",
      "3-комн. квартира    104\n",
      "4-комн. квартира     54\n",
      "1-комн. квартира     23\n",
      "Name: Rooms, dtype: int64\n"
     ]
    }
   ],
   "source": [
    "print(df['Rooms'].value_counts())"
   ]
  },
  {
   "cell_type": "code",
   "execution_count": 18,
   "id": "a72a5abd",
   "metadata": {},
   "outputs": [
    {
     "data": {
      "text/plain": [
       "Price    object\n",
       "Rooms    object\n",
       "Area     object\n",
       "Floor    object\n",
       "dtype: object"
      ]
     },
     "execution_count": 18,
     "metadata": {},
     "output_type": "execute_result"
    }
   ],
   "source": [
    "df.dtypes"
   ]
  },
  {
   "cell_type": "code",
   "execution_count": 19,
   "id": "453ce49c",
   "metadata": {},
   "outputs": [
    {
     "data": {
      "text/plain": [
       "288"
      ]
     },
     "execution_count": 19,
     "metadata": {},
     "output_type": "execute_result"
    }
   ],
   "source": [
    "len(df)"
   ]
  },
  {
   "cell_type": "code",
   "execution_count": 21,
   "id": "4cbccc02",
   "metadata": {},
   "outputs": [],
   "source": [
    "df['Price'] = pd.to_numeric(df['Price'])"
   ]
  },
  {
   "cell_type": "code",
   "execution_count": 23,
   "id": "b54531ff",
   "metadata": {},
   "outputs": [],
   "source": [
    "df['Area'] = pd.to_numeric(df['Area'])"
   ]
  },
  {
   "cell_type": "code",
   "execution_count": 24,
   "id": "c24d3ff0",
   "metadata": {},
   "outputs": [
    {
     "data": {
      "text/plain": [
       "Price      int64\n",
       "Rooms     object\n",
       "Area     float64\n",
       "Floor     object\n",
       "dtype: object"
      ]
     },
     "execution_count": 24,
     "metadata": {},
     "output_type": "execute_result"
    }
   ],
   "source": [
    "df.dtypes"
   ]
  },
  {
   "cell_type": "code",
   "execution_count": 26,
   "id": "902ae9b9",
   "metadata": {},
   "outputs": [],
   "source": [
    "df.to_excel(\"dataset_cleaned.xlsx\")  "
   ]
  }
 ],
 "metadata": {
  "kernelspec": {
   "display_name": "Python 3",
   "language": "python",
   "name": "python3"
  },
  "language_info": {
   "codemirror_mode": {
    "name": "ipython",
    "version": 3
   },
   "file_extension": ".py",
   "mimetype": "text/x-python",
   "name": "python",
   "nbconvert_exporter": "python",
   "pygments_lexer": "ipython3",
   "version": "3.8.8"
  }
 },
 "nbformat": 4,
 "nbformat_minor": 5
}
