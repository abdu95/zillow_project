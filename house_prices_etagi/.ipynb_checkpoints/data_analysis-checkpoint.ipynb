{
 "cells": [
  {
   "cell_type": "code",
   "execution_count": 1,
   "id": "106eb6ee",
   "metadata": {},
   "outputs": [],
   "source": [
    "import pandas as pd\n",
    "import seaborn as sns\n",
    "import matplotlib.pyplot as plt\n",
    "from statsmodels.formula.api import ols"
   ]
  },
  {
   "cell_type": "code",
   "execution_count": 43,
   "id": "1a98b100",
   "metadata": {},
   "outputs": [],
   "source": [
    "import numpy as np"
   ]
  },
  {
   "cell_type": "code",
   "execution_count": 6,
   "id": "0c905acd",
   "metadata": {},
   "outputs": [],
   "source": [
    "df = pd.read_excel(r'dataset_cleaned.xlsx', index_col = 0)"
   ]
  },
  {
   "cell_type": "code",
   "execution_count": 42,
   "id": "a093448d",
   "metadata": {},
   "outputs": [
    {
     "data": {
      "text/html": [
       "<div>\n",
       "<style scoped>\n",
       "    .dataframe tbody tr th:only-of-type {\n",
       "        vertical-align: middle;\n",
       "    }\n",
       "\n",
       "    .dataframe tbody tr th {\n",
       "        vertical-align: top;\n",
       "    }\n",
       "\n",
       "    .dataframe thead th {\n",
       "        text-align: right;\n",
       "    }\n",
       "</style>\n",
       "<table border=\"1\" class=\"dataframe\">\n",
       "  <thead>\n",
       "    <tr style=\"text-align: right;\">\n",
       "      <th></th>\n",
       "      <th>Price</th>\n",
       "      <th>Rooms</th>\n",
       "      <th>Area</th>\n",
       "      <th>Floor</th>\n",
       "    </tr>\n",
       "  </thead>\n",
       "  <tbody>\n",
       "    <tr>\n",
       "      <th>0</th>\n",
       "      <td>2673</td>\n",
       "      <td>4-комн. квартира</td>\n",
       "      <td>150.0</td>\n",
       "      <td>3/9</td>\n",
       "    </tr>\n",
       "    <tr>\n",
       "      <th>1</th>\n",
       "      <td>402</td>\n",
       "      <td>3-комн. квартира</td>\n",
       "      <td>82.0</td>\n",
       "      <td>10/12</td>\n",
       "    </tr>\n",
       "    <tr>\n",
       "      <th>2</th>\n",
       "      <td>435</td>\n",
       "      <td>3-комн. квартира</td>\n",
       "      <td>72.0</td>\n",
       "      <td>4/4</td>\n",
       "    </tr>\n",
       "    <tr>\n",
       "      <th>3</th>\n",
       "      <td>357</td>\n",
       "      <td>1-комн. квартира</td>\n",
       "      <td>40.0</td>\n",
       "      <td>5/5</td>\n",
       "    </tr>\n",
       "    <tr>\n",
       "      <th>4</th>\n",
       "      <td>1068</td>\n",
       "      <td>3-комн. квартира</td>\n",
       "      <td>80.0</td>\n",
       "      <td>2/7</td>\n",
       "    </tr>\n",
       "  </tbody>\n",
       "</table>\n",
       "</div>"
      ],
      "text/plain": [
       "   Price             Rooms   Area  Floor\n",
       "0   2673  4-комн. квартира  150.0    3/9\n",
       "1    402  3-комн. квартира   82.0  10/12\n",
       "2    435  3-комн. квартира   72.0    4/4\n",
       "3    357  1-комн. квартира   40.0    5/5\n",
       "4   1068  3-комн. квартира   80.0    2/7"
      ]
     },
     "execution_count": 42,
     "metadata": {},
     "output_type": "execute_result"
    }
   ],
   "source": [
    "df.head()"
   ]
  },
  {
   "cell_type": "code",
   "execution_count": 8,
   "id": "12bc51af",
   "metadata": {},
   "outputs": [
    {
     "data": {
      "text/plain": [
       "Index([], dtype='object')"
      ]
     },
     "execution_count": 8,
     "metadata": {},
     "output_type": "execute_result"
    }
   ],
   "source": [
    "df.columns[df.isnull().any()]"
   ]
  },
  {
   "cell_type": "markdown",
   "id": "3cc30b7e",
   "metadata": {},
   "source": [
    "# Summary statistics"
   ]
  },
  {
   "cell_type": "code",
   "execution_count": 22,
   "id": "6c81dd11",
   "metadata": {},
   "outputs": [
    {
     "data": {
      "text/plain": [
       "count     288.000000\n",
       "mean      664.371528\n",
       "std       324.980060\n",
       "min       205.000000\n",
       "25%       450.000000\n",
       "50%       574.000000\n",
       "75%       809.250000\n",
       "max      2673.000000\n",
       "Name: Price, dtype: float64"
      ]
     },
     "execution_count": 22,
     "metadata": {},
     "output_type": "execute_result"
    }
   ],
   "source": [
    "df['Price'].describe()"
   ]
  },
  {
   "cell_type": "code",
   "execution_count": 20,
   "id": "8277d36f",
   "metadata": {},
   "outputs": [],
   "source": [
    "df['Price'] = df['Price']//1000000"
   ]
  },
  {
   "cell_type": "code",
   "execution_count": 95,
   "id": "c3cb5962",
   "metadata": {},
   "outputs": [
    {
     "data": {
      "text/plain": [
       "<AxesSubplot:>"
      ]
     },
     "execution_count": 95,
     "metadata": {},
     "output_type": "execute_result"
    },
    {
     "data": {
      "image/png": "[encoded data removed]",
      "text/plain": [
       "<Figure size 432x288 with 1 Axes>"
      ]
     },
     "metadata": {
      "needs_background": "light"
     },
     "output_type": "display_data"
    }
   ],
   "source": [
    "df['Price'].hist()"
   ]
  },
  {
   "cell_type": "markdown",
   "id": "e5b9d88a",
   "metadata": {},
   "source": [
    "# Outliers"
   ]
  },
  {
   "cell_type": "code",
   "execution_count": 64,
   "id": "eb218707",
   "metadata": {},
   "outputs": [],
   "source": [
    "q1 = np.quantile(df['Price'], 0.25)\n",
    "q3 = np.quantile(df['Price'], 0.75)\n",
    "iqr = q3 - q1"
   ]
  },
  {
   "cell_type": "code",
   "execution_count": 65,
   "id": "03ac3237",
   "metadata": {},
   "outputs": [
    {
     "data": {
      "text/plain": [
       "359.25"
      ]
     },
     "execution_count": 65,
     "metadata": {},
     "output_type": "execute_result"
    }
   ],
   "source": [
    "iqr"
   ]
  },
  {
   "cell_type": "code",
   "execution_count": 67,
   "id": "43f9b9e0",
   "metadata": {},
   "outputs": [],
   "source": [
    "# Calculate the lower and upper cutoffs for outliers\n",
    "lower = q1 - 1.5 * iqr\n",
    "upper = q3 + 1.5 * iqr"
   ]
  },
  {
   "cell_type": "code",
   "execution_count": 68,
   "id": "057aa5d7",
   "metadata": {},
   "outputs": [],
   "source": [
    "# Subset emissions_by_country to find outliers\n",
    "outliers = df[(df['Price'] < lower) | (df['Price'] > upper)]"
   ]
  },
  {
   "cell_type": "code",
   "execution_count": 69,
   "id": "5bc55751",
   "metadata": {},
   "outputs": [
    {
     "name": "stdout",
     "output_type": "stream",
     "text": [
      "     Price             Rooms    Area Floor  sqrt_area  log10_area  log10_price\n",
      "0     2673  4-комн. квартира  150.00   3/9  12.247449    2.176091     3.426999\n",
      "30    1350  4-комн. квартира  109.00   4/7  10.440307    2.037426     3.130334\n",
      "45    1580  3-комн. квартира   92.00   5/8   9.591663    1.963788     3.198657\n",
      "58    1629  3-комн. квартира   70.68   1/5   8.407140    1.849297     3.211921\n",
      "70    2225  4-комн. квартира  133.00   4/9  11.532563    2.123852     3.347330\n",
      "92    1566  4-комн. квартира  133.00   2/8  11.532563    2.123852     3.194792\n",
      "180   1400  4-комн. квартира  154.00   1/4  12.409674    2.187521     3.146128\n",
      "247   1507  3-комн. квартира   71.06   1/4   8.429709    1.851625     3.178113\n",
      "259   1411  4-комн. квартира  167.00  3/10  12.922848    2.222716     3.149527\n",
      "261   2030  3-комн. квартира   63.24   1/4   7.952358    1.800992     3.307496\n",
      "287   1451  3-комн. квартира  130.29   8/9  11.414465    2.114911     3.161667\n",
      "292   1450  4-комн. квартира  178.00   4/4  13.341664    2.250420     3.161368\n"
     ]
    }
   ],
   "source": [
    "print(outliers)"
   ]
  },
  {
   "cell_type": "markdown",
   "id": "cfbf125a",
   "metadata": {},
   "source": [
    "# Visualizing two numeric variables\n"
   ]
  },
  {
   "cell_type": "code",
   "execution_count": 21,
   "id": "bb9ccfef",
   "metadata": {},
   "outputs": [
    {
     "data": {
      "image/png": "[encoded data removed]",
      "text/plain": [
       "<Figure size 432x288 with 1 Axes>"
      ]
     },
     "metadata": {
      "needs_background": "light"
     },
     "output_type": "display_data"
    }
   ],
   "source": [
    "sns.scatterplot(x = \"Area\", y = \"Price\",  data = df)\n",
    "plt.show()"
   ]
  },
  {
   "cell_type": "markdown",
   "id": "e7aa794a",
   "metadata": {},
   "source": [
    "Majority of points are crammed into the bottom left of the plot making it difficult to asses whether it's good fit or not.\n",
    "\n",
    "Square roots are a common transformation when your data has a right-skewed distribution."
   ]
  },
  {
   "cell_type": "code",
   "execution_count": 71,
   "id": "6c9c9651",
   "metadata": {},
   "outputs": [],
   "source": [
    "order_rooms = ['1-комн. квартира', '2-комн. квартира', '3-комн. квартира', '4-комн. квартира']"
   ]
  },
  {
   "cell_type": "code",
   "execution_count": 23,
   "id": "18e2da2a",
   "metadata": {},
   "outputs": [
    {
     "data": {
      "text/plain": [
       "[Text(0, 0, '1-комн. квартира'),\n",
       " Text(1, 0, '2-комн. квартира'),\n",
       " Text(2, 0, '3-комн. квартира'),\n",
       " Text(3, 0, '4-комн. квартира')]"
      ]
     },
     "execution_count": 23,
     "metadata": {},
     "output_type": "execute_result"
    },
    {
     "data": {
      "image/png": "[encoded data removed]",
      "text/plain": [
       "<Figure size 432x288 with 1 Axes>"
      ]
     },
     "metadata": {
      "needs_background": "light"
     },
     "output_type": "display_data"
    }
   ],
   "source": [
    "ax = sns.boxplot(x = \"Rooms\", y = \"Price\", order = order_rooms, data= df)\n",
    "ax.set_xticklabels(ax.get_xticklabels(),rotation = 30)"
   ]
  },
  {
   "cell_type": "markdown",
   "id": "b4a857da",
   "metadata": {},
   "source": [
    "# Linear regression with ols()"
   ]
  },
  {
   "cell_type": "code",
   "execution_count": 25,
   "id": "d84e12db",
   "metadata": {},
   "outputs": [],
   "source": [
    "# Create the model object\n",
    "mdl_price_vs_area = ols(\"Price ~ Area\", data = df)"
   ]
  },
  {
   "cell_type": "code",
   "execution_count": 26,
   "id": "a1bd15e3",
   "metadata": {},
   "outputs": [],
   "source": [
    "# Fit the model\n",
    "mdl_price_vs_area = mdl_price_vs_area.fit()"
   ]
  },
  {
   "cell_type": "code",
   "execution_count": 27,
   "id": "4e6bb083",
   "metadata": {},
   "outputs": [
    {
     "name": "stdout",
     "output_type": "stream",
     "text": [
      "Intercept    0.331006\n",
      "Area         9.155922\n",
      "dtype: float64\n"
     ]
    }
   ],
   "source": [
    "# Print the parameters of the fitted model\n",
    "print(mdl_price_vs_area.params)"
   ]
  },
  {
   "cell_type": "code",
   "execution_count": 84,
   "id": "e3fb159f",
   "metadata": {},
   "outputs": [
    {
     "data": {
      "text/html": [
       "<table class=\"simpletable\">\n",
       "<caption>OLS Regression Results</caption>\n",
       "<tr>\n",
       "  <th>Dep. Variable:</th>          <td>Price</td>      <th>  R-squared:         </th> <td>   0.502</td>\n",
       "</tr>\n",
       "<tr>\n",
       "  <th>Model:</th>                   <td>OLS</td>       <th>  Adj. R-squared:    </th> <td>   0.501</td>\n",
       "</tr>\n",
       "<tr>\n",
       "  <th>Method:</th>             <td>Least Squares</td>  <th>  F-statistic:       </th> <td>   288.8</td>\n",
       "</tr>\n",
       "<tr>\n",
       "  <th>Date:</th>             <td>Tue, 01 Feb 2022</td> <th>  Prob (F-statistic):</th> <td>2.96e-45</td>\n",
       "</tr>\n",
       "<tr>\n",
       "  <th>Time:</th>                 <td>21:49:54</td>     <th>  Log-Likelihood:    </th> <td> -1973.4</td>\n",
       "</tr>\n",
       "<tr>\n",
       "  <th>No. Observations:</th>      <td>   288</td>      <th>  AIC:               </th> <td>   3951.</td>\n",
       "</tr>\n",
       "<tr>\n",
       "  <th>Df Residuals:</th>          <td>   286</td>      <th>  BIC:               </th> <td>   3958.</td>\n",
       "</tr>\n",
       "<tr>\n",
       "  <th>Df Model:</th>              <td>     1</td>      <th>                     </th>     <td> </td>   \n",
       "</tr>\n",
       "<tr>\n",
       "  <th>Covariance Type:</th>      <td>nonrobust</td>    <th>                     </th>     <td> </td>   \n",
       "</tr>\n",
       "</table>\n",
       "<table class=\"simpletable\">\n",
       "<tr>\n",
       "      <td></td>         <th>coef</th>     <th>std err</th>      <th>t</th>      <th>P>|t|</th>  <th>[0.025</th>    <th>0.975]</th>  \n",
       "</tr>\n",
       "<tr>\n",
       "  <th>Intercept</th> <td>    0.3310</td> <td>   41.352</td> <td>    0.008</td> <td> 0.994</td> <td>  -81.061</td> <td>   81.723</td>\n",
       "</tr>\n",
       "<tr>\n",
       "  <th>Area</th>      <td>    9.1559</td> <td>    0.539</td> <td>   16.994</td> <td> 0.000</td> <td>    8.095</td> <td>   10.216</td>\n",
       "</tr>\n",
       "</table>\n",
       "<table class=\"simpletable\">\n",
       "<tr>\n",
       "  <th>Omnibus:</th>       <td>172.973</td> <th>  Durbin-Watson:     </th> <td>   2.025</td>\n",
       "</tr>\n",
       "<tr>\n",
       "  <th>Prob(Omnibus):</th> <td> 0.000</td>  <th>  Jarque-Bera (JB):  </th> <td>1647.409</td>\n",
       "</tr>\n",
       "<tr>\n",
       "  <th>Skew:</th>          <td> 2.299</td>  <th>  Prob(JB):          </th> <td>    0.00</td>\n",
       "</tr>\n",
       "<tr>\n",
       "  <th>Kurtosis:</th>      <td>13.777</td>  <th>  Cond. No.          </th> <td>    235.</td>\n",
       "</tr>\n",
       "</table><br/><br/>Notes:<br/>[1] Standard Errors assume that the covariance matrix of the errors is correctly specified."
      ],
      "text/plain": [
       "<class 'statsmodels.iolib.summary.Summary'>\n",
       "\"\"\"\n",
       "                            OLS Regression Results                            \n",
       "==============================================================================\n",
       "Dep. Variable:                  Price   R-squared:                       0.502\n",
       "Model:                            OLS   Adj. R-squared:                  0.501\n",
       "Method:                 Least Squares   F-statistic:                     288.8\n",
       "Date:                Tue, 01 Feb 2022   Prob (F-statistic):           2.96e-45\n",
       "Time:                        21:49:54   Log-Likelihood:                -1973.4\n",
       "No. Observations:                 288   AIC:                             3951.\n",
       "Df Residuals:                     286   BIC:                             3958.\n",
       "Df Model:                           1                                         \n",
       "Covariance Type:            nonrobust                                         \n",
       "==============================================================================\n",
       "                 coef    std err          t      P>|t|      [0.025      0.975]\n",
       "------------------------------------------------------------------------------\n",
       "Intercept      0.3310     41.352      0.008      0.994     -81.061      81.723\n",
       "Area           9.1559      0.539     16.994      0.000       8.095      10.216\n",
       "==============================================================================\n",
       "Omnibus:                      172.973   Durbin-Watson:                   2.025\n",
       "Prob(Omnibus):                  0.000   Jarque-Bera (JB):             1647.409\n",
       "Skew:                           2.299   Prob(JB):                         0.00\n",
       "Kurtosis:                      13.777   Cond. No.                         235.\n",
       "==============================================================================\n",
       "\n",
       "Notes:\n",
       "[1] Standard Errors assume that the covariance matrix of the errors is correctly specified.\n",
       "\"\"\""
      ]
     },
     "execution_count": 84,
     "metadata": {},
     "output_type": "execute_result"
    }
   ],
   "source": [
    "mdl_price_vs_area.summary()"
   ]
  },
  {
   "cell_type": "markdown",
   "id": "23875e76",
   "metadata": {},
   "source": [
    "If Area (explanatory variable) increases by 1 unit (1 meter square), then price increases by 9 (9 million soums) "
   ]
  },
  {
   "cell_type": "markdown",
   "id": "69429518",
   "metadata": {},
   "source": [
    "# Visualizing numeric vs. categorical"
   ]
  },
  {
   "cell_type": "code",
   "execution_count": 35,
   "id": "f36ed566",
   "metadata": {},
   "outputs": [
    {
     "data": {
      "image/png": "[encoded data removed]",
      "text/plain": [
       "<Figure size 1440x360 with 4 Axes>"
      ]
     },
     "metadata": {
      "needs_background": "light"
     },
     "output_type": "display_data"
    }
   ],
   "source": [
    "sns.displot(data= df, x= \"Price\", col = \"Rooms\")\n",
    "plt.show()"
   ]
  },
  {
   "cell_type": "markdown",
   "id": "e4924286",
   "metadata": {},
   "source": [
    "# Calculating means by category"
   ]
  },
  {
   "cell_type": "code",
   "execution_count": 37,
   "id": "d795df60",
   "metadata": {},
   "outputs": [
    {
     "name": "stdout",
     "output_type": "stream",
     "text": [
      "Rooms\n",
      "1-комн. квартира    333.173913\n",
      "2-комн. квартира    532.626168\n",
      "3-комн. квартира    719.288462\n",
      "4-комн. квартира    960.722222\n",
      "Name: Price, dtype: float64\n"
     ]
    }
   ],
   "source": [
    "# Calculate the mean of price_twd_msq, grouped by house age\n",
    "mean_price_by_rooms = df.groupby('Rooms')['Price'].mean()\n",
    "\n",
    "# Print the result\n",
    "print(mean_price_by_rooms)"
   ]
  },
  {
   "cell_type": "code",
   "execution_count": 41,
   "id": "7bca7693",
   "metadata": {},
   "outputs": [
    {
     "name": "stdout",
     "output_type": "stream",
     "text": [
      "60.00     16\n",
      "100.00     9\n",
      "58.00      9\n",
      "70.00      8\n",
      "80.00      8\n",
      "          ..\n",
      "86.00      1\n",
      "167.00     1\n",
      "54.70      1\n",
      "69.23      1\n",
      "76.70      1\n",
      "Name: Area, Length: 121, dtype: int64\n"
     ]
    }
   ],
   "source": [
    "print(df['Area'].value_counts())"
   ]
  },
  {
   "cell_type": "markdown",
   "id": "09e751ef",
   "metadata": {},
   "source": [
    "# Predicting house prices"
   ]
  },
  {
   "cell_type": "code",
   "execution_count": 46,
   "id": "8b15e682",
   "metadata": {},
   "outputs": [],
   "source": [
    "# Create the explanatory_data \n",
    "explanatory_data = pd.DataFrame({'Area': [50, 60, 70, 80, 90, 100, 110, 120]})"
   ]
  },
  {
   "cell_type": "code",
   "execution_count": 47,
   "id": "4fd3e865",
   "metadata": {},
   "outputs": [
    {
     "data": {
      "text/html": [
       "<div>\n",
       "<style scoped>\n",
       "    .dataframe tbody tr th:only-of-type {\n",
       "        vertical-align: middle;\n",
       "    }\n",
       "\n",
       "    .dataframe tbody tr th {\n",
       "        vertical-align: top;\n",
       "    }\n",
       "\n",
       "    .dataframe thead th {\n",
       "        text-align: right;\n",
       "    }\n",
       "</style>\n",
       "<table border=\"1\" class=\"dataframe\">\n",
       "  <thead>\n",
       "    <tr style=\"text-align: right;\">\n",
       "      <th></th>\n",
       "      <th>Area</th>\n",
       "    </tr>\n",
       "  </thead>\n",
       "  <tbody>\n",
       "    <tr>\n",
       "      <th>0</th>\n",
       "      <td>50</td>\n",
       "    </tr>\n",
       "    <tr>\n",
       "      <th>1</th>\n",
       "      <td>60</td>\n",
       "    </tr>\n",
       "    <tr>\n",
       "      <th>2</th>\n",
       "      <td>70</td>\n",
       "    </tr>\n",
       "    <tr>\n",
       "      <th>3</th>\n",
       "      <td>80</td>\n",
       "    </tr>\n",
       "    <tr>\n",
       "      <th>4</th>\n",
       "      <td>90</td>\n",
       "    </tr>\n",
       "    <tr>\n",
       "      <th>5</th>\n",
       "      <td>100</td>\n",
       "    </tr>\n",
       "    <tr>\n",
       "      <th>6</th>\n",
       "      <td>110</td>\n",
       "    </tr>\n",
       "    <tr>\n",
       "      <th>7</th>\n",
       "      <td>120</td>\n",
       "    </tr>\n",
       "  </tbody>\n",
       "</table>\n",
       "</div>"
      ],
      "text/plain": [
       "   Area\n",
       "0    50\n",
       "1    60\n",
       "2    70\n",
       "3    80\n",
       "4    90\n",
       "5   100\n",
       "6   110\n",
       "7   120"
      ]
     },
     "execution_count": 47,
     "metadata": {},
     "output_type": "execute_result"
    }
   ],
   "source": [
    "explanatory_data"
   ]
  },
  {
   "cell_type": "code",
   "execution_count": 48,
   "id": "fae6212c",
   "metadata": {},
   "outputs": [],
   "source": [
    "# Use mdl_price_vs_area to predict with explanatory_data, call it price\n",
    "price_area = mdl_price_vs_area.predict(explanatory_data)"
   ]
  },
  {
   "cell_type": "code",
   "execution_count": 49,
   "id": "27aa8871",
   "metadata": {},
   "outputs": [
    {
     "data": {
      "text/plain": [
       "0     458.127083\n",
       "1     549.686298\n",
       "2     641.245514\n",
       "3     732.804729\n",
       "4     824.363945\n",
       "5     915.923160\n",
       "6    1007.482376\n",
       "7    1099.041591\n",
       "dtype: float64"
      ]
     },
     "execution_count": 49,
     "metadata": {},
     "output_type": "execute_result"
    }
   ],
   "source": [
    "price_area"
   ]
  },
  {
   "cell_type": "code",
   "execution_count": 50,
   "id": "2d9bd3b9",
   "metadata": {},
   "outputs": [],
   "source": [
    "prediction_data = explanatory_data.assign(price_area = price_area)"
   ]
  },
  {
   "cell_type": "code",
   "execution_count": 51,
   "id": "f2b89650",
   "metadata": {},
   "outputs": [
    {
     "name": "stdout",
     "output_type": "stream",
     "text": [
      "   Area   price_area\n",
      "0    50   458.127083\n",
      "1    60   549.686298\n",
      "2    70   641.245514\n",
      "3    80   732.804729\n",
      "4    90   824.363945\n",
      "5   100   915.923160\n",
      "6   110  1007.482376\n",
      "7   120  1099.041591\n"
     ]
    }
   ],
   "source": [
    "print(prediction_data)"
   ]
  },
  {
   "cell_type": "markdown",
   "id": "e264d900",
   "metadata": {},
   "source": [
    "# Visualizing predictions"
   ]
  },
  {
   "cell_type": "code",
   "execution_count": 53,
   "id": "25545583",
   "metadata": {},
   "outputs": [
    {
     "data": {
      "image/png": "[encoded data removed]",
      "text/plain": [
       "<Figure size 432x288 with 1 Axes>"
      ]
     },
     "metadata": {
      "needs_background": "light"
     },
     "output_type": "display_data"
    }
   ],
   "source": [
    "fig = plt.figure()\n",
    "\n",
    "sns.regplot(x=\"Area\",\n",
    "            y=\"Price\",\n",
    "            data = df,\n",
    "            ci=None)\n",
    "# Add a scatter plot layer to the regplot\n",
    "sns.scatterplot(x=\"Area\",\n",
    "            y=\"price_area\",\n",
    "            data = prediction_data,\n",
    "            color = 'red')\n",
    "\n",
    "# Show the layered plot\n",
    "plt.show()"
   ]
  },
  {
   "cell_type": "markdown",
   "id": "03a17c50",
   "metadata": {},
   "source": [
    "# Manually predicting house prices"
   ]
  },
  {
   "cell_type": "code",
   "execution_count": 54,
   "id": "fc4086c9",
   "metadata": {},
   "outputs": [],
   "source": [
    "# Get the coefficients of mdl_price_vs_conv\n",
    "coeffs = mdl_price_vs_area.params"
   ]
  },
  {
   "cell_type": "code",
   "execution_count": 57,
   "id": "c35c6349",
   "metadata": {},
   "outputs": [
    {
     "name": "stdout",
     "output_type": "stream",
     "text": [
      "          Area  predictions_auto\n",
      "0   458.127083        458.127083\n",
      "1   549.686298        549.686298\n",
      "2   641.245514        641.245514\n",
      "3   732.804729        732.804729\n",
      "4   824.363945        824.363945\n",
      "5   915.923160        915.923160\n",
      "6  1007.482376       1007.482376\n",
      "7  1099.041591       1099.041591\n"
     ]
    }
   ],
   "source": [
    "# Get the intercept\n",
    "intercept = coeffs['Intercept']\n",
    "\n",
    "# Get the slope\n",
    "slope = coeffs['Area']\n",
    "\n",
    "# Manually calculate the predictions\n",
    "price_area_m = intercept + slope * explanatory_data\n",
    "# print(price_area_m)\n",
    "\n",
    "# Compare to the results from .predict()\n",
    "print(price_area_m.assign(predictions_auto = mdl_price_vs_area.predict(explanatory_data)))"
   ]
  },
  {
   "cell_type": "markdown",
   "id": "d11916ec",
   "metadata": {},
   "source": [
    "# Transforming the explanatory variable"
   ]
  },
  {
   "cell_type": "code",
   "execution_count": 58,
   "id": "c47d22fd",
   "metadata": {},
   "outputs": [],
   "source": [
    "df[\"sqrt_area\"] = np.sqrt(df[\"Area\"])"
   ]
  },
  {
   "cell_type": "code",
   "execution_count": 59,
   "id": "ef9ae39c",
   "metadata": {},
   "outputs": [
    {
     "data": {
      "image/png": "[encoded data removed]",
      "text/plain": [
       "<Figure size 432x288 with 1 Axes>"
      ]
     },
     "metadata": {
      "needs_background": "light"
     },
     "output_type": "display_data"
    }
   ],
   "source": [
    "sns.scatterplot(x = \"sqrt_area\", y = \"Price\",  data = df)\n",
    "plt.show()"
   ]
  },
  {
   "cell_type": "code",
   "execution_count": 60,
   "id": "3a84a60b",
   "metadata": {},
   "outputs": [],
   "source": [
    "# Calculate logarithm to base 10 on 'Price' column\n",
    "df['log10_area'] = np.log10(df['Area'])"
   ]
  },
  {
   "cell_type": "code",
   "execution_count": 61,
   "id": "065f88ea",
   "metadata": {},
   "outputs": [
    {
     "data": {
      "image/png": "[encoded data removed]",
      "text/plain": [
       "<Figure size 432x288 with 1 Axes>"
      ]
     },
     "metadata": {
      "needs_background": "light"
     },
     "output_type": "display_data"
    }
   ],
   "source": [
    "sns.scatterplot(x = \"log10_area\", y = \"Price\",  data = df)\n",
    "plt.show()"
   ]
  },
  {
   "cell_type": "code",
   "execution_count": 62,
   "id": "d20d4220",
   "metadata": {},
   "outputs": [],
   "source": [
    "df['log10_price'] = np.log10(df['Price'])"
   ]
  },
  {
   "cell_type": "code",
   "execution_count": 63,
   "id": "79d4d81a",
   "metadata": {},
   "outputs": [
    {
     "data": {
      "image/png": "[encoded data removed]",
      "text/plain": [
       "<Figure size 432x288 with 1 Axes>"
      ]
     },
     "metadata": {
      "needs_background": "light"
     },
     "output_type": "display_data"
    }
   ],
   "source": [
    "sns.scatterplot(x = \"log10_area\", y = \"log10_price\",  data = df)\n",
    "plt.show()"
   ]
  },
  {
   "cell_type": "code",
   "execution_count": 70,
   "id": "7d7825eb",
   "metadata": {},
   "outputs": [
    {
     "data": {
      "text/plain": [
       "<AxesSubplot:xlabel='log10_area', ylabel='log10_price'>"
      ]
     },
     "execution_count": 70,
     "metadata": {},
     "output_type": "execute_result"
    },
    {
     "data": {
      "image/png": "[encoded data removed]",
      "text/plain": [
       "<Figure size 432x288 with 1 Axes>"
      ]
     },
     "metadata": {
      "needs_background": "light"
     },
     "output_type": "display_data"
    }
   ],
   "source": [
    "sns.regplot(x=\"log10_area\", y=\"log10_price\", data = df, ci=None)"
   ]
  },
  {
   "cell_type": "code",
   "execution_count": 86,
   "id": "9670a773",
   "metadata": {},
   "outputs": [],
   "source": [
    "mdl_ln_price_vs_ln_area = ols(\"log10_price ~ log10_area\", data = df)"
   ]
  },
  {
   "cell_type": "code",
   "execution_count": 87,
   "id": "b1c10ea7",
   "metadata": {},
   "outputs": [],
   "source": [
    "mdl_ln_price_vs_ln_area = mdl_ln_price_vs_ln_area.fit()"
   ]
  },
  {
   "cell_type": "code",
   "execution_count": 89,
   "id": "a8bf3217",
   "metadata": {},
   "outputs": [
    {
     "data": {
      "text/plain": [
       "0.5643438587453747"
      ]
     },
     "execution_count": 89,
     "metadata": {},
     "output_type": "execute_result"
    }
   ],
   "source": [
    "# mdl_ln_price_vs_ln_area.summary()\n",
    "mdl_ln_price_vs_ln_area.rsquared"
   ]
  },
  {
   "cell_type": "code",
   "execution_count": 92,
   "id": "e3451ba2",
   "metadata": {},
   "outputs": [],
   "source": [
    "mse = mdl_ln_price_vs_ln_area.mse_resid"
   ]
  },
  {
   "cell_type": "code",
   "execution_count": 93,
   "id": "d932a04e",
   "metadata": {},
   "outputs": [],
   "source": [
    "rse = np.sqrt(mse)"
   ]
  },
  {
   "cell_type": "code",
   "execution_count": 94,
   "id": "6bd1629a",
   "metadata": {},
   "outputs": [
    {
     "data": {
      "text/plain": [
       "0.12188310165037532"
      ]
     },
     "execution_count": 94,
     "metadata": {},
     "output_type": "execute_result"
    }
   ],
   "source": [
    "rse"
   ]
  },
  {
   "cell_type": "markdown",
   "id": "7468a6bc",
   "metadata": {},
   "source": [
    "The difference between predicted house prices and existing (observed) house prices is typically about 0.12 * 1.000.000 = 120.000 UZ sum"
   ]
  },
  {
   "cell_type": "code",
   "execution_count": null,
   "id": "3fe5a511",
   "metadata": {},
   "outputs": [],
   "source": []
  },
  {
   "cell_type": "code",
   "execution_count": 73,
   "id": "1f48e73b",
   "metadata": {},
   "outputs": [],
   "source": [
    "df['sqrt_area'] = np.sqrt(df['Area'])"
   ]
  },
  {
   "cell_type": "code",
   "execution_count": 74,
   "id": "ceab9954",
   "metadata": {},
   "outputs": [],
   "source": [
    "df['sqrt_price'] = np.sqrt(df['Price'])"
   ]
  },
  {
   "cell_type": "code",
   "execution_count": 75,
   "id": "17bbe8a2",
   "metadata": {},
   "outputs": [
    {
     "data": {
      "text/plain": [
       "<AxesSubplot:xlabel='sqrt_area', ylabel='sqrt_price'>"
      ]
     },
     "execution_count": 75,
     "metadata": {},
     "output_type": "execute_result"
    },
    {
     "data": {
      "image/png": "[encoded data removed]",
      "text/plain": [
       "<Figure size 432x288 with 1 Axes>"
      ]
     },
     "metadata": {
      "needs_background": "light"
     },
     "output_type": "display_data"
    }
   ],
   "source": [
    "sns.regplot(x=\"sqrt_area\", y=\"sqrt_price\", data = df, ci=None)"
   ]
  },
  {
   "cell_type": "code",
   "execution_count": 79,
   "id": "c534efec",
   "metadata": {},
   "outputs": [],
   "source": [
    "mdl_sqrt_price_vs_sqrt_area = ols('sqrt_price ~ sqrt_area', data = df).fit()"
   ]
  },
  {
   "cell_type": "code",
   "execution_count": 80,
   "id": "3ac5c024",
   "metadata": {},
   "outputs": [],
   "source": [
    "explanatory_data = pd.DataFrame({'sqrt_area': np.sqrt([50, 60, 70, 80, 90, 100, 110, 120]),\n",
    "                                'area': [50, 60, 70, 80, 90, 100, 110, 120]})"
   ]
  },
  {
   "cell_type": "code",
   "execution_count": 81,
   "id": "e9c75ddb",
   "metadata": {},
   "outputs": [],
   "source": [
    "prediction_data = explanatory_data.assign(sqrt_area = mdl_sqrt_price_vs_sqrt_area.predict(explanatory_data),\n",
    "                                          area = mdl_sqrt_price_vs_sqrt_area.predict(explanatory_data) ** 2)"
   ]
  },
  {
   "cell_type": "code",
   "execution_count": 82,
   "id": "aa3678ac",
   "metadata": {},
   "outputs": [
    {
     "data": {
      "text/html": [
       "<div>\n",
       "<style scoped>\n",
       "    .dataframe tbody tr th:only-of-type {\n",
       "        vertical-align: middle;\n",
       "    }\n",
       "\n",
       "    .dataframe tbody tr th {\n",
       "        vertical-align: top;\n",
       "    }\n",
       "\n",
       "    .dataframe thead th {\n",
       "        text-align: right;\n",
       "    }\n",
       "</style>\n",
       "<table border=\"1\" class=\"dataframe\">\n",
       "  <thead>\n",
       "    <tr style=\"text-align: right;\">\n",
       "      <th></th>\n",
       "      <th>sqrt_area</th>\n",
       "      <th>area</th>\n",
       "    </tr>\n",
       "  </thead>\n",
       "  <tbody>\n",
       "    <tr>\n",
       "      <th>0</th>\n",
       "      <td>21.306182</td>\n",
       "      <td>453.953379</td>\n",
       "    </tr>\n",
       "    <tr>\n",
       "      <th>1</th>\n",
       "      <td>23.265128</td>\n",
       "      <td>541.266195</td>\n",
       "    </tr>\n",
       "    <tr>\n",
       "      <th>2</th>\n",
       "      <td>25.066566</td>\n",
       "      <td>628.332711</td>\n",
       "    </tr>\n",
       "    <tr>\n",
       "      <th>3</th>\n",
       "      <td>26.743303</td>\n",
       "      <td>715.204232</td>\n",
       "    </tr>\n",
       "    <tr>\n",
       "      <th>4</th>\n",
       "      <td>28.318128</td>\n",
       "      <td>801.916393</td>\n",
       "    </tr>\n",
       "    <tr>\n",
       "      <th>5</th>\n",
       "      <td>29.807636</td>\n",
       "      <td>888.495140</td>\n",
       "    </tr>\n",
       "    <tr>\n",
       "      <th>6</th>\n",
       "      <td>31.224350</td>\n",
       "      <td>974.960061</td>\n",
       "    </tr>\n",
       "    <tr>\n",
       "      <th>7</th>\n",
       "      <td>32.578004</td>\n",
       "      <td>1061.326372</td>\n",
       "    </tr>\n",
       "  </tbody>\n",
       "</table>\n",
       "</div>"
      ],
      "text/plain": [
       "   sqrt_area         area\n",
       "0  21.306182   453.953379\n",
       "1  23.265128   541.266195\n",
       "2  25.066566   628.332711\n",
       "3  26.743303   715.204232\n",
       "4  28.318128   801.916393\n",
       "5  29.807636   888.495140\n",
       "6  31.224350   974.960061\n",
       "7  32.578004  1061.326372"
      ]
     },
     "execution_count": 82,
     "metadata": {},
     "output_type": "execute_result"
    }
   ],
   "source": [
    "prediction_data"
   ]
  },
  {
   "cell_type": "code",
   "execution_count": 83,
   "id": "1fd91978",
   "metadata": {},
   "outputs": [
    {
     "data": {
      "text/html": [
       "<table class=\"simpletable\">\n",
       "<caption>OLS Regression Results</caption>\n",
       "<tr>\n",
       "  <th>Dep. Variable:</th>       <td>sqrt_price</td>    <th>  R-squared:         </th> <td>   0.540</td>\n",
       "</tr>\n",
       "<tr>\n",
       "  <th>Model:</th>                   <td>OLS</td>       <th>  Adj. R-squared:    </th> <td>   0.538</td>\n",
       "</tr>\n",
       "<tr>\n",
       "  <th>Method:</th>             <td>Least Squares</td>  <th>  F-statistic:       </th> <td>   335.8</td>\n",
       "</tr>\n",
       "<tr>\n",
       "  <th>Date:</th>             <td>Tue, 01 Feb 2022</td> <th>  Prob (F-statistic):</th> <td>3.75e-50</td>\n",
       "</tr>\n",
       "<tr>\n",
       "  <th>Time:</th>                 <td>21:49:09</td>     <th>  Log-Likelihood:    </th> <td> -794.99</td>\n",
       "</tr>\n",
       "<tr>\n",
       "  <th>No. Observations:</th>      <td>   288</td>      <th>  AIC:               </th> <td>   1594.</td>\n",
       "</tr>\n",
       "<tr>\n",
       "  <th>Df Residuals:</th>          <td>   286</td>      <th>  BIC:               </th> <td>   1601.</td>\n",
       "</tr>\n",
       "<tr>\n",
       "  <th>Df Model:</th>              <td>     1</td>      <th>                     </th>     <td> </td>   \n",
       "</tr>\n",
       "<tr>\n",
       "  <th>Covariance Type:</th>      <td>nonrobust</td>    <th>                     </th>     <td> </td>   \n",
       "</tr>\n",
       "</table>\n",
       "<table class=\"simpletable\">\n",
       "<tr>\n",
       "      <td></td>         <th>coef</th>     <th>std err</th>      <th>t</th>      <th>P>|t|</th>  <th>[0.025</th>    <th>0.975]</th>  \n",
       "</tr>\n",
       "<tr>\n",
       "  <th>Intercept</th> <td>    0.7819</td> <td>    1.349</td> <td>    0.580</td> <td> 0.563</td> <td>   -1.873</td> <td>    3.437</td>\n",
       "</tr>\n",
       "<tr>\n",
       "  <th>sqrt_area</th> <td>    2.9026</td> <td>    0.158</td> <td>   18.325</td> <td> 0.000</td> <td>    2.591</td> <td>    3.214</td>\n",
       "</tr>\n",
       "</table>\n",
       "<table class=\"simpletable\">\n",
       "<tr>\n",
       "  <th>Omnibus:</th>       <td>90.016</td> <th>  Durbin-Watson:     </th> <td>   2.061</td>\n",
       "</tr>\n",
       "<tr>\n",
       "  <th>Prob(Omnibus):</th> <td> 0.000</td> <th>  Jarque-Bera (JB):  </th> <td> 344.950</td>\n",
       "</tr>\n",
       "<tr>\n",
       "  <th>Skew:</th>          <td> 1.283</td> <th>  Prob(JB):          </th> <td>1.24e-75</td>\n",
       "</tr>\n",
       "<tr>\n",
       "  <th>Kurtosis:</th>      <td> 7.707</td> <th>  Cond. No.          </th> <td>    51.5</td>\n",
       "</tr>\n",
       "</table><br/><br/>Notes:<br/>[1] Standard Errors assume that the covariance matrix of the errors is correctly specified."
      ],
      "text/plain": [
       "<class 'statsmodels.iolib.summary.Summary'>\n",
       "\"\"\"\n",
       "                            OLS Regression Results                            \n",
       "==============================================================================\n",
       "Dep. Variable:             sqrt_price   R-squared:                       0.540\n",
       "Model:                            OLS   Adj. R-squared:                  0.538\n",
       "Method:                 Least Squares   F-statistic:                     335.8\n",
       "Date:                Tue, 01 Feb 2022   Prob (F-statistic):           3.75e-50\n",
       "Time:                        21:49:09   Log-Likelihood:                -794.99\n",
       "No. Observations:                 288   AIC:                             1594.\n",
       "Df Residuals:                     286   BIC:                             1601.\n",
       "Df Model:                           1                                         \n",
       "Covariance Type:            nonrobust                                         \n",
       "==============================================================================\n",
       "                 coef    std err          t      P>|t|      [0.025      0.975]\n",
       "------------------------------------------------------------------------------\n",
       "Intercept      0.7819      1.349      0.580      0.563      -1.873       3.437\n",
       "sqrt_area      2.9026      0.158     18.325      0.000       2.591       3.214\n",
       "==============================================================================\n",
       "Omnibus:                       90.016   Durbin-Watson:                   2.061\n",
       "Prob(Omnibus):                  0.000   Jarque-Bera (JB):              344.950\n",
       "Skew:                           1.283   Prob(JB):                     1.24e-75\n",
       "Kurtosis:                       7.707   Cond. No.                         51.5\n",
       "==============================================================================\n",
       "\n",
       "Notes:\n",
       "[1] Standard Errors assume that the covariance matrix of the errors is correctly specified.\n",
       "\"\"\""
      ]
     },
     "execution_count": 83,
     "metadata": {},
     "output_type": "execute_result"
    }
   ],
   "source": [
    "mdl_sqrt_price_vs_sqrt_area.summary()"
   ]
  }
 ],
 "metadata": {
  "kernelspec": {
   "display_name": "Python 3",
   "language": "python",
   "name": "python3"
  },
  "language_info": {
   "codemirror_mode": {
    "name": "ipython",
    "version": 3
   },
   "file_extension": ".py",
   "mimetype": "text/x-python",
   "name": "python",
   "nbconvert_exporter": "python",
   "pygments_lexer": "ipython3",
   "version": "3.8.8"
  }
 },
 "nbformat": 4,
 "nbformat_minor": 5
}
