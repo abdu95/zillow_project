{
 "cells": [
  {
   "cell_type": "code",
   "execution_count": 1,
   "id": "653d2908",
   "metadata": {},
   "outputs": [],
   "source": [
    "import pandas as pd"
   ]
  },
  {
   "cell_type": "code",
   "execution_count": 7,
   "id": "bc5c3890",
   "metadata": {},
   "outputs": [],
   "source": [
    "df = pd.read_excel(r'dataset_3rd_attempt.xlsx')"
   ]
  },
  {
   "cell_type": "code",
   "execution_count": 8,
   "id": "18b00370",
   "metadata": {},
   "outputs": [
    {
     "data": {
      "text/html": [
       "<div>\n",
       "<style scoped>\n",
       "    .dataframe tbody tr th:only-of-type {\n",
       "        vertical-align: middle;\n",
       "    }\n",
       "\n",
       "    .dataframe tbody tr th {\n",
       "        vertical-align: top;\n",
       "    }\n",
       "\n",
       "    .dataframe thead th {\n",
       "        text-align: right;\n",
       "    }\n",
       "</style>\n",
       "<table border=\"1\" class=\"dataframe\">\n",
       "  <thead>\n",
       "    <tr style=\"text-align: right;\">\n",
       "      <th></th>\n",
       "      <th>District</th>\n",
       "      <th>Room_area_floor</th>\n",
       "    </tr>\n",
       "  </thead>\n",
       "  <tbody>\n",
       "    <tr>\n",
       "      <th>0</th>\n",
       "      <td>Юнусабадский, ул. Шарафа Рашидова (5.3 км до ц...</td>\n",
       "      <td>4-комн.  квартира, 150м², 3/9 этаж</td>\n",
       "    </tr>\n",
       "    <tr>\n",
       "      <th>1</th>\n",
       "      <td>Яшнабадский, ул. Ферганское шоссе, д. 10 (4.4 ...</td>\n",
       "      <td>3-комн.  квартира, 82м², 10/12 этаж</td>\n",
       "    </tr>\n",
       "    <tr>\n",
       "      <th>2</th>\n",
       "      <td>Бектемирский, ул. Джамиля Ташканди, д. 58 (11....</td>\n",
       "      <td>3-комн.  квартира, 72м², 4/4 этаж</td>\n",
       "    </tr>\n",
       "    <tr>\n",
       "      <th>3</th>\n",
       "      <td>Мирзо-Улугбекский, ул. Мирзо Улугбека (0.2 км ...</td>\n",
       "      <td>1-комн.  квартира, 40м², 5/5 этаж</td>\n",
       "    </tr>\n",
       "    <tr>\n",
       "      <th>4</th>\n",
       "      <td>Сергелийский, ул. Сергели-VII массив, д. 7 (15...</td>\n",
       "      <td>3-комн.  квартира, 78м², 5/9 этаж</td>\n",
       "    </tr>\n",
       "  </tbody>\n",
       "</table>\n",
       "</div>"
      ],
      "text/plain": [
       "                                            District  \\\n",
       "0  Юнусабадский, ул. Шарафа Рашидова (5.3 км до ц...   \n",
       "1  Яшнабадский, ул. Ферганское шоссе, д. 10 (4.4 ...   \n",
       "2  Бектемирский, ул. Джамиля Ташканди, д. 58 (11....   \n",
       "3  Мирзо-Улугбекский, ул. Мирзо Улугбека (0.2 км ...   \n",
       "4  Сергелийский, ул. Сергели-VII массив, д. 7 (15...   \n",
       "\n",
       "                       Room_area_floor  \n",
       "0   4-комн.  квартира, 150м², 3/9 этаж  \n",
       "1  3-комн.  квартира, 82м², 10/12 этаж  \n",
       "2    3-комн.  квартира, 72м², 4/4 этаж  \n",
       "3    1-комн.  квартира, 40м², 5/5 этаж  \n",
       "4    3-комн.  квартира, 78м², 5/9 этаж  "
      ]
     },
     "execution_count": 8,
     "metadata": {},
     "output_type": "execute_result"
    }
   ],
   "source": [
    "df.head()"
   ]
  },
  {
   "cell_type": "code",
   "execution_count": 9,
   "id": "422ec488",
   "metadata": {},
   "outputs": [
    {
     "data": {
      "text/html": [
       "<div>\n",
       "<style scoped>\n",
       "    .dataframe tbody tr th:only-of-type {\n",
       "        vertical-align: middle;\n",
       "    }\n",
       "\n",
       "    .dataframe tbody tr th {\n",
       "        vertical-align: top;\n",
       "    }\n",
       "\n",
       "    .dataframe thead th {\n",
       "        text-align: right;\n",
       "    }\n",
       "</style>\n",
       "<table border=\"1\" class=\"dataframe\">\n",
       "  <thead>\n",
       "    <tr style=\"text-align: right;\">\n",
       "      <th></th>\n",
       "      <th>0</th>\n",
       "      <th>1</th>\n",
       "      <th>2</th>\n",
       "    </tr>\n",
       "  </thead>\n",
       "  <tbody>\n",
       "    <tr>\n",
       "      <th>0</th>\n",
       "      <td>Юнусабадский</td>\n",
       "      <td>ул. Шарафа Рашидова (5.3 км до центра)На карте</td>\n",
       "      <td>None</td>\n",
       "    </tr>\n",
       "    <tr>\n",
       "      <th>1</th>\n",
       "      <td>Яшнабадский</td>\n",
       "      <td>ул. Ферганское шоссе</td>\n",
       "      <td>д. 10 (4.4 км до центра)На карте</td>\n",
       "    </tr>\n",
       "    <tr>\n",
       "      <th>2</th>\n",
       "      <td>Бектемирский</td>\n",
       "      <td>ул. Джамиля Ташканди</td>\n",
       "      <td>д. 58 (11.5 км до центра)На карте</td>\n",
       "    </tr>\n",
       "    <tr>\n",
       "      <th>3</th>\n",
       "      <td>Мирзо-Улугбекский</td>\n",
       "      <td>ул. Мирзо Улугбека (0.2 км до центра)На карте</td>\n",
       "      <td>None</td>\n",
       "    </tr>\n",
       "    <tr>\n",
       "      <th>4</th>\n",
       "      <td>Сергелийский</td>\n",
       "      <td>ул. Сергели-VII массив</td>\n",
       "      <td>д. 7 (15.2 км до центра)На карте</td>\n",
       "    </tr>\n",
       "    <tr>\n",
       "      <th>...</th>\n",
       "      <td>...</td>\n",
       "      <td>...</td>\n",
       "      <td>...</td>\n",
       "    </tr>\n",
       "    <tr>\n",
       "      <th>775</th>\n",
       "      <td>Юнусабадский</td>\n",
       "      <td>ул. 7-й кв-л</td>\n",
       "      <td>д. 29 (7 км до центра)На карте</td>\n",
       "    </tr>\n",
       "    <tr>\n",
       "      <th>776</th>\n",
       "      <td>Яккасарайский</td>\n",
       "      <td>ул. 1-й пр. Мукими (7.7 км до центра)На карте</td>\n",
       "      <td>None</td>\n",
       "    </tr>\n",
       "    <tr>\n",
       "      <th>777</th>\n",
       "      <td>Юнусабадский</td>\n",
       "      <td>ул. 11-й кв-л (5.3 км до центра)На карте</td>\n",
       "      <td>None</td>\n",
       "    </tr>\n",
       "    <tr>\n",
       "      <th>778</th>\n",
       "      <td>Юнусабадский</td>\n",
       "      <td>ул. 2-й кв-л</td>\n",
       "      <td>д. 40 (5.3 км до центра)На карте</td>\n",
       "    </tr>\n",
       "    <tr>\n",
       "      <th>779</th>\n",
       "      <td>Юнусабадский</td>\n",
       "      <td>ул. 4-й кв-л (5.3 км до центра)На карте</td>\n",
       "      <td>None</td>\n",
       "    </tr>\n",
       "  </tbody>\n",
       "</table>\n",
       "<p>780 rows × 3 columns</p>\n",
       "</div>"
      ],
      "text/plain": [
       "                     0                                                1  \\\n",
       "0         Юнусабадский   ул. Шарафа Рашидова (5.3 км до центра)На карте   \n",
       "1          Яшнабадский                             ул. Ферганское шоссе   \n",
       "2         Бектемирский                             ул. Джамиля Ташканди   \n",
       "3    Мирзо-Улугбекский    ул. Мирзо Улугбека (0.2 км до центра)На карте   \n",
       "4         Сергелийский                           ул. Сергели-VII массив   \n",
       "..                 ...                                              ...   \n",
       "775       Юнусабадский                                     ул. 7-й кв-л   \n",
       "776      Яккасарайский    ул. 1-й пр. Мукими (7.7 км до центра)На карте   \n",
       "777       Юнусабадский         ул. 11-й кв-л (5.3 км до центра)На карте   \n",
       "778       Юнусабадский                                     ул. 2-й кв-л   \n",
       "779       Юнусабадский          ул. 4-й кв-л (5.3 км до центра)На карте   \n",
       "\n",
       "                                      2  \n",
       "0                                  None  \n",
       "1      д. 10 (4.4 км до центра)На карте  \n",
       "2     д. 58 (11.5 км до центра)На карте  \n",
       "3                                  None  \n",
       "4      д. 7 (15.2 км до центра)На карте  \n",
       "..                                  ...  \n",
       "775      д. 29 (7 км до центра)На карте  \n",
       "776                                None  \n",
       "777                                None  \n",
       "778    д. 40 (5.3 км до центра)На карте  \n",
       "779                                None  \n",
       "\n",
       "[780 rows x 3 columns]"
      ]
     },
     "execution_count": 9,
     "metadata": {},
     "output_type": "execute_result"
    }
   ],
   "source": [
    "df['District'].str.split(',', expand=True)"
   ]
  },
  {
   "cell_type": "code",
   "execution_count": 10,
   "id": "d9b4aa23",
   "metadata": {},
   "outputs": [],
   "source": [
    "df[['District_name', 'Street']] = df['District'].str.split(' ', 1, expand=True)"
   ]
  },
  {
   "cell_type": "code",
   "execution_count": 11,
   "id": "c0f685ef",
   "metadata": {},
   "outputs": [
    {
     "data": {
      "text/html": [
       "<div>\n",
       "<style scoped>\n",
       "    .dataframe tbody tr th:only-of-type {\n",
       "        vertical-align: middle;\n",
       "    }\n",
       "\n",
       "    .dataframe tbody tr th {\n",
       "        vertical-align: top;\n",
       "    }\n",
       "\n",
       "    .dataframe thead th {\n",
       "        text-align: right;\n",
       "    }\n",
       "</style>\n",
       "<table border=\"1\" class=\"dataframe\">\n",
       "  <thead>\n",
       "    <tr style=\"text-align: right;\">\n",
       "      <th></th>\n",
       "      <th>District</th>\n",
       "      <th>Room_area_floor</th>\n",
       "      <th>District_name</th>\n",
       "      <th>Street</th>\n",
       "    </tr>\n",
       "  </thead>\n",
       "  <tbody>\n",
       "    <tr>\n",
       "      <th>0</th>\n",
       "      <td>Юнусабадский, ул. Шарафа Рашидова (5.3 км до ц...</td>\n",
       "      <td>4-комн.  квартира, 150м², 3/9 этаж</td>\n",
       "      <td>Юнусабадский,</td>\n",
       "      <td>ул. Шарафа Рашидова (5.3 км до центра)На карте</td>\n",
       "    </tr>\n",
       "    <tr>\n",
       "      <th>1</th>\n",
       "      <td>Яшнабадский, ул. Ферганское шоссе, д. 10 (4.4 ...</td>\n",
       "      <td>3-комн.  квартира, 82м², 10/12 этаж</td>\n",
       "      <td>Яшнабадский,</td>\n",
       "      <td>ул. Ферганское шоссе, д. 10 (4.4 км до центра)...</td>\n",
       "    </tr>\n",
       "    <tr>\n",
       "      <th>2</th>\n",
       "      <td>Бектемирский, ул. Джамиля Ташканди, д. 58 (11....</td>\n",
       "      <td>3-комн.  квартира, 72м², 4/4 этаж</td>\n",
       "      <td>Бектемирский,</td>\n",
       "      <td>ул. Джамиля Ташканди, д. 58 (11.5 км до центра...</td>\n",
       "    </tr>\n",
       "    <tr>\n",
       "      <th>3</th>\n",
       "      <td>Мирзо-Улугбекский, ул. Мирзо Улугбека (0.2 км ...</td>\n",
       "      <td>1-комн.  квартира, 40м², 5/5 этаж</td>\n",
       "      <td>Мирзо-Улугбекский,</td>\n",
       "      <td>ул. Мирзо Улугбека (0.2 км до центра)На карте</td>\n",
       "    </tr>\n",
       "    <tr>\n",
       "      <th>4</th>\n",
       "      <td>Сергелийский, ул. Сергели-VII массив, д. 7 (15...</td>\n",
       "      <td>3-комн.  квартира, 78м², 5/9 этаж</td>\n",
       "      <td>Сергелийский,</td>\n",
       "      <td>ул. Сергели-VII массив, д. 7 (15.2 км до центр...</td>\n",
       "    </tr>\n",
       "  </tbody>\n",
       "</table>\n",
       "</div>"
      ],
      "text/plain": [
       "                                            District  \\\n",
       "0  Юнусабадский, ул. Шарафа Рашидова (5.3 км до ц...   \n",
       "1  Яшнабадский, ул. Ферганское шоссе, д. 10 (4.4 ...   \n",
       "2  Бектемирский, ул. Джамиля Ташканди, д. 58 (11....   \n",
       "3  Мирзо-Улугбекский, ул. Мирзо Улугбека (0.2 км ...   \n",
       "4  Сергелийский, ул. Сергели-VII массив, д. 7 (15...   \n",
       "\n",
       "                       Room_area_floor       District_name  \\\n",
       "0   4-комн.  квартира, 150м², 3/9 этаж       Юнусабадский,   \n",
       "1  3-комн.  квартира, 82м², 10/12 этаж        Яшнабадский,   \n",
       "2    3-комн.  квартира, 72м², 4/4 этаж       Бектемирский,   \n",
       "3    1-комн.  квартира, 40м², 5/5 этаж  Мирзо-Улугбекский,   \n",
       "4    3-комн.  квартира, 78м², 5/9 этаж       Сергелийский,   \n",
       "\n",
       "                                              Street  \n",
       "0     ул. Шарафа Рашидова (5.3 км до центра)На карте  \n",
       "1  ул. Ферганское шоссе, д. 10 (4.4 км до центра)...  \n",
       "2  ул. Джамиля Ташканди, д. 58 (11.5 км до центра...  \n",
       "3      ул. Мирзо Улугбека (0.2 км до центра)На карте  \n",
       "4  ул. Сергели-VII массив, д. 7 (15.2 км до центр...  "
      ]
     },
     "execution_count": 11,
     "metadata": {},
     "output_type": "execute_result"
    }
   ],
   "source": [
    "df.head()"
   ]
  },
  {
   "cell_type": "code",
   "execution_count": 13,
   "id": "b55cd2f1",
   "metadata": {},
   "outputs": [
    {
     "data": {
      "text/plain": [
       "array(['Юнусабадский,', 'Яшнабадский,', 'Бектемирский,',\n",
       "       'Мирзо-Улугбекский,', 'Сергелийский,', 'Шайхантахурский,', 'Салар',\n",
       "       'Яккасарайский,', 'Мирабадский,', 'Чиланзарский,', 'Учтепинский,',\n",
       "       'Алмазарский,', 'Янгихаётский,'], dtype=object)"
      ]
     },
     "execution_count": 13,
     "metadata": {},
     "output_type": "execute_result"
    }
   ],
   "source": [
    "df['District_name'].unique()"
   ]
  },
  {
   "cell_type": "code",
   "execution_count": 14,
   "id": "e19deb10",
   "metadata": {},
   "outputs": [],
   "source": [
    "df['District_name'] = df['District_name'].map(lambda x: x.rstrip(','))"
   ]
  },
  {
   "cell_type": "code",
   "execution_count": 16,
   "id": "a85270c6",
   "metadata": {},
   "outputs": [
    {
     "data": {
      "text/html": [
       "<div>\n",
       "<style scoped>\n",
       "    .dataframe tbody tr th:only-of-type {\n",
       "        vertical-align: middle;\n",
       "    }\n",
       "\n",
       "    .dataframe tbody tr th {\n",
       "        vertical-align: top;\n",
       "    }\n",
       "\n",
       "    .dataframe thead th {\n",
       "        text-align: right;\n",
       "    }\n",
       "</style>\n",
       "<table border=\"1\" class=\"dataframe\">\n",
       "  <thead>\n",
       "    <tr style=\"text-align: right;\">\n",
       "      <th></th>\n",
       "      <th>District</th>\n",
       "      <th>Room_area_floor</th>\n",
       "      <th>District_name</th>\n",
       "      <th>Street</th>\n",
       "    </tr>\n",
       "  </thead>\n",
       "  <tbody>\n",
       "    <tr>\n",
       "      <th>0</th>\n",
       "      <td>Юнусабадский, ул. Шарафа Рашидова (5.3 км до ц...</td>\n",
       "      <td>4-комн.  квартира, 150м², 3/9 этаж</td>\n",
       "      <td>Юнусабадский</td>\n",
       "      <td>ул. Шарафа Рашидова (5.3 км до центра)На карте</td>\n",
       "    </tr>\n",
       "    <tr>\n",
       "      <th>1</th>\n",
       "      <td>Яшнабадский, ул. Ферганское шоссе, д. 10 (4.4 ...</td>\n",
       "      <td>3-комн.  квартира, 82м², 10/12 этаж</td>\n",
       "      <td>Яшнабадский</td>\n",
       "      <td>ул. Ферганское шоссе, д. 10 (4.4 км до центра)...</td>\n",
       "    </tr>\n",
       "    <tr>\n",
       "      <th>2</th>\n",
       "      <td>Бектемирский, ул. Джамиля Ташканди, д. 58 (11....</td>\n",
       "      <td>3-комн.  квартира, 72м², 4/4 этаж</td>\n",
       "      <td>Бектемирский</td>\n",
       "      <td>ул. Джамиля Ташканди, д. 58 (11.5 км до центра...</td>\n",
       "    </tr>\n",
       "    <tr>\n",
       "      <th>3</th>\n",
       "      <td>Мирзо-Улугбекский, ул. Мирзо Улугбека (0.2 км ...</td>\n",
       "      <td>1-комн.  квартира, 40м², 5/5 этаж</td>\n",
       "      <td>Мирзо-Улугбекский</td>\n",
       "      <td>ул. Мирзо Улугбека (0.2 км до центра)На карте</td>\n",
       "    </tr>\n",
       "    <tr>\n",
       "      <th>4</th>\n",
       "      <td>Сергелийский, ул. Сергели-VII массив, д. 7 (15...</td>\n",
       "      <td>3-комн.  квартира, 78м², 5/9 этаж</td>\n",
       "      <td>Сергелийский</td>\n",
       "      <td>ул. Сергели-VII массив, д. 7 (15.2 км до центр...</td>\n",
       "    </tr>\n",
       "  </tbody>\n",
       "</table>\n",
       "</div>"
      ],
      "text/plain": [
       "                                            District  \\\n",
       "0  Юнусабадский, ул. Шарафа Рашидова (5.3 км до ц...   \n",
       "1  Яшнабадский, ул. Ферганское шоссе, д. 10 (4.4 ...   \n",
       "2  Бектемирский, ул. Джамиля Ташканди, д. 58 (11....   \n",
       "3  Мирзо-Улугбекский, ул. Мирзо Улугбека (0.2 км ...   \n",
       "4  Сергелийский, ул. Сергели-VII массив, д. 7 (15...   \n",
       "\n",
       "                       Room_area_floor      District_name  \\\n",
       "0   4-комн.  квартира, 150м², 3/9 этаж       Юнусабадский   \n",
       "1  3-комн.  квартира, 82м², 10/12 этаж        Яшнабадский   \n",
       "2    3-комн.  квартира, 72м², 4/4 этаж       Бектемирский   \n",
       "3    1-комн.  квартира, 40м², 5/5 этаж  Мирзо-Улугбекский   \n",
       "4    3-комн.  квартира, 78м², 5/9 этаж       Сергелийский   \n",
       "\n",
       "                                              Street  \n",
       "0     ул. Шарафа Рашидова (5.3 км до центра)На карте  \n",
       "1  ул. Ферганское шоссе, д. 10 (4.4 км до центра)...  \n",
       "2  ул. Джамиля Ташканди, д. 58 (11.5 км до центра...  \n",
       "3      ул. Мирзо Улугбека (0.2 км до центра)На карте  \n",
       "4  ул. Сергели-VII массив, д. 7 (15.2 км до центр...  "
      ]
     },
     "execution_count": 16,
     "metadata": {},
     "output_type": "execute_result"
    }
   ],
   "source": [
    "df.head()"
   ]
  },
  {
   "cell_type": "code",
   "execution_count": 18,
   "id": "346232e7",
   "metadata": {},
   "outputs": [
    {
     "data": {
      "text/plain": [
       "780"
      ]
     },
     "execution_count": 18,
     "metadata": {},
     "output_type": "execute_result"
    }
   ],
   "source": [
    "len(df)"
   ]
  },
  {
   "cell_type": "code",
   "execution_count": 17,
   "id": "01a27704",
   "metadata": {},
   "outputs": [
    {
     "data": {
      "text/plain": [
       "Мирзо-Улугбекский    172\n",
       "Яшнабадский          149\n",
       "Юнусабадский         141\n",
       "Шайхантахурский       88\n",
       "Мирабадский           69\n",
       "Яккасарайский         46\n",
       "Салар                 35\n",
       "Сергелийский          31\n",
       "Чиланзарский          19\n",
       "Бектемирский          17\n",
       "Учтепинский            6\n",
       "Алмазарский            6\n",
       "Янгихаётский           1\n",
       "Name: District_name, dtype: int64"
      ]
     },
     "execution_count": 17,
     "metadata": {},
     "output_type": "execute_result"
    }
   ],
   "source": [
    "df['District_name'].value_counts()"
   ]
  },
  {
   "cell_type": "code",
   "execution_count": null,
   "id": "094f56d3",
   "metadata": {},
   "outputs": [],
   "source": [
    "mean_price_by_district = df.groupby('District_name')['Price'].mean()\n"
   ]
  }
 ],
 "metadata": {
  "kernelspec": {
   "display_name": "Python 3",
   "language": "python",
   "name": "python3"
  },
  "language_info": {
   "codemirror_mode": {
    "name": "ipython",
    "version": 3
   },
   "file_extension": ".py",
   "mimetype": "text/x-python",
   "name": "python",
   "nbconvert_exporter": "python",
   "pygments_lexer": "ipython3",
   "version": "3.8.8"
  }
 },
 "nbformat": 4,
 "nbformat_minor": 5
}
