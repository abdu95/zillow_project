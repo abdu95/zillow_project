{
 "cells": [
  {
   "cell_type": "code",
   "execution_count": 30,
   "id": "42ee42fa",
   "metadata": {},
   "outputs": [],
   "source": [
    "import pandas as pd"
   ]
  },
  {
   "cell_type": "code",
   "execution_count": 31,
   "id": "86470f54",
   "metadata": {},
   "outputs": [],
   "source": [
    "df = pd.read_excel(r'../data/raw/dataset.xlsx')"
   ]
  },
  {
   "cell_type": "code",
   "execution_count": 32,
   "id": "c0fcd6d7",
   "metadata": {},
   "outputs": [
    {
     "data": {
      "text/html": [
       "<div>\n",
       "<style scoped>\n",
       "    .dataframe tbody tr th:only-of-type {\n",
       "        vertical-align: middle;\n",
       "    }\n",
       "\n",
       "    .dataframe tbody tr th {\n",
       "        vertical-align: top;\n",
       "    }\n",
       "\n",
       "    .dataframe thead th {\n",
       "        text-align: right;\n",
       "    }\n",
       "</style>\n",
       "<table border=\"1\" class=\"dataframe\">\n",
       "  <thead>\n",
       "    <tr style=\"text-align: right;\">\n",
       "      <th></th>\n",
       "      <th>House_id</th>\n",
       "      <th>Price</th>\n",
       "      <th>District</th>\n",
       "      <th>Room_area_floor</th>\n",
       "      <th>Renovation_types</th>\n",
       "      <th>Built_years</th>\n",
       "    </tr>\n",
       "  </thead>\n",
       "  <tbody>\n",
       "    <tr>\n",
       "      <th>0</th>\n",
       "      <td>7258386</td>\n",
       "      <td>870 000 000 сум</td>\n",
       "      <td>Мирабадский, ул. Авлиё-Ота (5.2 км до центра)Н...</td>\n",
       "      <td>3-комн.  квартира, 82м², 7/9 этаж</td>\n",
       "      <td>Косметический ремонт</td>\n",
       "      <td>7 из 9</td>\n",
       "    </tr>\n",
       "    <tr>\n",
       "      <th>1</th>\n",
       "      <td>7270325</td>\n",
       "      <td>210 000 000 сум</td>\n",
       "      <td>Мирзо-Улугбекский, ул. Авайхон (0.2 км до цент...</td>\n",
       "      <td>1-комн.  квартира, 23м², 2/3 этаж</td>\n",
       "      <td>Косметический ремонт</td>\n",
       "      <td>2 из 3</td>\n",
       "    </tr>\n",
       "    <tr>\n",
       "      <th>2</th>\n",
       "      <td>7248161</td>\n",
       "      <td>836 000 000 сум</td>\n",
       "      <td>Чиланзарский, ул. 5-й квартал (10.8 км до цент...</td>\n",
       "      <td>3-комн.  квартира, 78м², 3/4 этаж</td>\n",
       "      <td>Косметический ремонт</td>\n",
       "      <td>1979</td>\n",
       "    </tr>\n",
       "    <tr>\n",
       "      <th>3</th>\n",
       "      <td>7235546</td>\n",
       "      <td>535 000 000 сум</td>\n",
       "      <td>Мирзо-Улугбекский, ул. Мирзо Улугбека (0.2 км ...</td>\n",
       "      <td>2-комн.  квартира, 45м², 2/5 этаж</td>\n",
       "      <td>Косметический ремонт</td>\n",
       "      <td>2 из 5</td>\n",
       "    </tr>\n",
       "    <tr>\n",
       "      <th>4</th>\n",
       "      <td>7215874</td>\n",
       "      <td>754 000 000 сум</td>\n",
       "      <td>Мирабадский, ул. Авлиё-Ота (5.2 км до центра)Н...</td>\n",
       "      <td>2-комн.  квартира, 66м², 3/4 этаж</td>\n",
       "      <td>Косметический ремонт</td>\n",
       "      <td>3 из 4</td>\n",
       "    </tr>\n",
       "  </tbody>\n",
       "</table>\n",
       "</div>"
      ],
      "text/plain": [
       "   House_id            Price  \\\n",
       "0   7258386  870 000 000 сум   \n",
       "1   7270325  210 000 000 сум   \n",
       "2   7248161  836 000 000 сум   \n",
       "3   7235546  535 000 000 сум   \n",
       "4   7215874  754 000 000 сум   \n",
       "\n",
       "                                            District  \\\n",
       "0  Мирабадский, ул. Авлиё-Ота (5.2 км до центра)Н...   \n",
       "1  Мирзо-Улугбекский, ул. Авайхон (0.2 км до цент...   \n",
       "2  Чиланзарский, ул. 5-й квартал (10.8 км до цент...   \n",
       "3  Мирзо-Улугбекский, ул. Мирзо Улугбека (0.2 км ...   \n",
       "4  Мирабадский, ул. Авлиё-Ота (5.2 км до центра)Н...   \n",
       "\n",
       "                     Room_area_floor      Renovation_types Built_years  \n",
       "0  3-комн.  квартира, 82м², 7/9 этаж  Косметический ремонт      7 из 9  \n",
       "1  1-комн.  квартира, 23м², 2/3 этаж  Косметический ремонт      2 из 3  \n",
       "2  3-комн.  квартира, 78м², 3/4 этаж  Косметический ремонт        1979  \n",
       "3  2-комн.  квартира, 45м², 2/5 этаж  Косметический ремонт      2 из 5  \n",
       "4  2-комн.  квартира, 66м², 3/4 этаж  Косметический ремонт      3 из 4  "
      ]
     },
     "execution_count": 32,
     "metadata": {},
     "output_type": "execute_result"
    }
   ],
   "source": [
    "df.head()"
   ]
  },
  {
   "cell_type": "code",
   "execution_count": 33,
   "id": "7f6dc458",
   "metadata": {},
   "outputs": [
    {
     "data": {
      "text/plain": [
       "780"
      ]
     },
     "execution_count": 33,
     "metadata": {},
     "output_type": "execute_result"
    }
   ],
   "source": [
    "len(df)"
   ]
  },
  {
   "cell_type": "code",
   "execution_count": 34,
   "id": "524d1384",
   "metadata": {},
   "outputs": [
    {
     "data": {
      "text/plain": [
       "Index(['House_id', 'Price', 'District', 'Room_area_floor', 'Renovation_types',\n",
       "       'Built_years'],\n",
       "      dtype='object')"
      ]
     },
     "execution_count": 34,
     "metadata": {},
     "output_type": "execute_result"
    }
   ],
   "source": [
    "df.columns"
   ]
  },
  {
   "cell_type": "code",
   "execution_count": 35,
   "id": "bb03dd7f",
   "metadata": {},
   "outputs": [
    {
     "name": "stdout",
     "output_type": "stream",
     "text": [
      "<class 'pandas.core.frame.DataFrame'>\n",
      "RangeIndex: 780 entries, 0 to 779\n",
      "Data columns (total 6 columns):\n",
      " #   Column            Non-Null Count  Dtype \n",
      "---  ------            --------------  ----- \n",
      " 0   House_id          780 non-null    int64 \n",
      " 1   Price             780 non-null    object\n",
      " 2   District          780 non-null    object\n",
      " 3   Room_area_floor   780 non-null    object\n",
      " 4   Renovation_types  780 non-null    object\n",
      " 5   Built_years       780 non-null    object\n",
      "dtypes: int64(1), object(5)\n",
      "memory usage: 36.7+ KB\n"
     ]
    }
   ],
   "source": [
    "df.info()"
   ]
  },
  {
   "cell_type": "code",
   "execution_count": 36,
   "id": "3f91adf3",
   "metadata": {},
   "outputs": [],
   "source": [
    "df['Price'] = df['Price'].map(lambda x: x.rstrip(' сум').replace(' ', ''))"
   ]
  },
  {
   "cell_type": "code",
   "execution_count": 37,
   "id": "3a7e6a38",
   "metadata": {},
   "outputs": [],
   "source": [
    "df['Price'] = pd.to_numeric(df['Price'])"
   ]
  },
  {
   "cell_type": "code",
   "execution_count": 38,
   "id": "516adf25",
   "metadata": {},
   "outputs": [
    {
     "name": "stdout",
     "output_type": "stream",
     "text": [
      "<class 'pandas.core.frame.DataFrame'>\n",
      "RangeIndex: 780 entries, 0 to 779\n",
      "Data columns (total 6 columns):\n",
      " #   Column            Non-Null Count  Dtype \n",
      "---  ------            --------------  ----- \n",
      " 0   House_id          780 non-null    int64 \n",
      " 1   Price             780 non-null    int64 \n",
      " 2   District          780 non-null    object\n",
      " 3   Room_area_floor   780 non-null    object\n",
      " 4   Renovation_types  780 non-null    object\n",
      " 5   Built_years       780 non-null    object\n",
      "dtypes: int64(2), object(4)\n",
      "memory usage: 36.7+ KB\n"
     ]
    }
   ],
   "source": [
    "df.info()"
   ]
  },
  {
   "cell_type": "code",
   "execution_count": 39,
   "id": "fa427e5d",
   "metadata": {},
   "outputs": [],
   "source": [
    "df[['District_name', 'Street']] = df['District'].str.split(' ', 1, expand=True)"
   ]
  },
  {
   "cell_type": "code",
   "execution_count": 40,
   "id": "cb04498f",
   "metadata": {},
   "outputs": [],
   "source": [
    "df['District_name'] = df['District_name'].map(lambda x: x.rstrip(','))"
   ]
  },
  {
   "cell_type": "code",
   "execution_count": 41,
   "id": "0b5da6f8",
   "metadata": {},
   "outputs": [
    {
     "data": {
      "text/html": [
       "<div>\n",
       "<style scoped>\n",
       "    .dataframe tbody tr th:only-of-type {\n",
       "        vertical-align: middle;\n",
       "    }\n",
       "\n",
       "    .dataframe tbody tr th {\n",
       "        vertical-align: top;\n",
       "    }\n",
       "\n",
       "    .dataframe thead th {\n",
       "        text-align: right;\n",
       "    }\n",
       "</style>\n",
       "<table border=\"1\" class=\"dataframe\">\n",
       "  <thead>\n",
       "    <tr style=\"text-align: right;\">\n",
       "      <th></th>\n",
       "      <th>House_id</th>\n",
       "      <th>Price</th>\n",
       "      <th>District</th>\n",
       "      <th>Room_area_floor</th>\n",
       "      <th>Renovation_types</th>\n",
       "      <th>Built_years</th>\n",
       "      <th>District_name</th>\n",
       "      <th>Street</th>\n",
       "    </tr>\n",
       "  </thead>\n",
       "  <tbody>\n",
       "    <tr>\n",
       "      <th>0</th>\n",
       "      <td>7258386</td>\n",
       "      <td>870000000</td>\n",
       "      <td>Мирабадский, ул. Авлиё-Ота (5.2 км до центра)Н...</td>\n",
       "      <td>3-комн.  квартира, 82м², 7/9 этаж</td>\n",
       "      <td>Косметический ремонт</td>\n",
       "      <td>7 из 9</td>\n",
       "      <td>Мирабадский</td>\n",
       "      <td>ул. Авлиё-Ота (5.2 км до центра)На карте</td>\n",
       "    </tr>\n",
       "    <tr>\n",
       "      <th>1</th>\n",
       "      <td>7270325</td>\n",
       "      <td>210000000</td>\n",
       "      <td>Мирзо-Улугбекский, ул. Авайхон (0.2 км до цент...</td>\n",
       "      <td>1-комн.  квартира, 23м², 2/3 этаж</td>\n",
       "      <td>Косметический ремонт</td>\n",
       "      <td>2 из 3</td>\n",
       "      <td>Мирзо-Улугбекский</td>\n",
       "      <td>ул. Авайхон (0.2 км до центра)На карте</td>\n",
       "    </tr>\n",
       "    <tr>\n",
       "      <th>2</th>\n",
       "      <td>7248161</td>\n",
       "      <td>836000000</td>\n",
       "      <td>Чиланзарский, ул. 5-й квартал (10.8 км до цент...</td>\n",
       "      <td>3-комн.  квартира, 78м², 3/4 этаж</td>\n",
       "      <td>Косметический ремонт</td>\n",
       "      <td>1979</td>\n",
       "      <td>Чиланзарский</td>\n",
       "      <td>ул. 5-й квартал (10.8 км до центра)На карте</td>\n",
       "    </tr>\n",
       "    <tr>\n",
       "      <th>3</th>\n",
       "      <td>7235546</td>\n",
       "      <td>535000000</td>\n",
       "      <td>Мирзо-Улугбекский, ул. Мирзо Улугбека (0.2 км ...</td>\n",
       "      <td>2-комн.  квартира, 45м², 2/5 этаж</td>\n",
       "      <td>Косметический ремонт</td>\n",
       "      <td>2 из 5</td>\n",
       "      <td>Мирзо-Улугбекский</td>\n",
       "      <td>ул. Мирзо Улугбека (0.2 км до центра)На карте</td>\n",
       "    </tr>\n",
       "    <tr>\n",
       "      <th>4</th>\n",
       "      <td>7215874</td>\n",
       "      <td>754000000</td>\n",
       "      <td>Мирабадский, ул. Авлиё-Ота (5.2 км до центра)Н...</td>\n",
       "      <td>2-комн.  квартира, 66м², 3/4 этаж</td>\n",
       "      <td>Косметический ремонт</td>\n",
       "      <td>3 из 4</td>\n",
       "      <td>Мирабадский</td>\n",
       "      <td>ул. Авлиё-Ота (5.2 км до центра)На карте</td>\n",
       "    </tr>\n",
       "  </tbody>\n",
       "</table>\n",
       "</div>"
      ],
      "text/plain": [
       "   House_id      Price                                           District  \\\n",
       "0   7258386  870000000  Мирабадский, ул. Авлиё-Ота (5.2 км до центра)Н...   \n",
       "1   7270325  210000000  Мирзо-Улугбекский, ул. Авайхон (0.2 км до цент...   \n",
       "2   7248161  836000000  Чиланзарский, ул. 5-й квартал (10.8 км до цент...   \n",
       "3   7235546  535000000  Мирзо-Улугбекский, ул. Мирзо Улугбека (0.2 км ...   \n",
       "4   7215874  754000000  Мирабадский, ул. Авлиё-Ота (5.2 км до центра)Н...   \n",
       "\n",
       "                     Room_area_floor      Renovation_types Built_years  \\\n",
       "0  3-комн.  квартира, 82м², 7/9 этаж  Косметический ремонт      7 из 9   \n",
       "1  1-комн.  квартира, 23м², 2/3 этаж  Косметический ремонт      2 из 3   \n",
       "2  3-комн.  квартира, 78м², 3/4 этаж  Косметический ремонт        1979   \n",
       "3  2-комн.  квартира, 45м², 2/5 этаж  Косметический ремонт      2 из 5   \n",
       "4  2-комн.  квартира, 66м², 3/4 этаж  Косметический ремонт      3 из 4   \n",
       "\n",
       "       District_name                                         Street  \n",
       "0        Мирабадский       ул. Авлиё-Ота (5.2 км до центра)На карте  \n",
       "1  Мирзо-Улугбекский         ул. Авайхон (0.2 км до центра)На карте  \n",
       "2       Чиланзарский    ул. 5-й квартал (10.8 км до центра)На карте  \n",
       "3  Мирзо-Улугбекский  ул. Мирзо Улугбека (0.2 км до центра)На карте  \n",
       "4        Мирабадский       ул. Авлиё-Ота (5.2 км до центра)На карте  "
      ]
     },
     "execution_count": 41,
     "metadata": {},
     "output_type": "execute_result"
    }
   ],
   "source": [
    "df.head()"
   ]
  },
  {
   "cell_type": "code",
   "execution_count": 42,
   "id": "9756221f",
   "metadata": {},
   "outputs": [
    {
     "data": {
      "text/plain": [
       "array(['Мирабадский', 'Мирзо-Улугбекский', 'Чиланзарский', 'Юнусабадский',\n",
       "       'Яшнабадский', 'Бектемирский', 'Сергелийский', 'Яккасарайский',\n",
       "       'Алмазарский', 'Шайхантахурский', 'Учтепинский', 'Салар'],\n",
       "      dtype=object)"
      ]
     },
     "execution_count": 42,
     "metadata": {},
     "output_type": "execute_result"
    }
   ],
   "source": [
    "df['District_name'].unique()"
   ]
  },
  {
   "cell_type": "code",
   "execution_count": 43,
   "id": "5bfeeb10",
   "metadata": {},
   "outputs": [
    {
     "data": {
      "text/html": [
       "<div>\n",
       "<style scoped>\n",
       "    .dataframe tbody tr th:only-of-type {\n",
       "        vertical-align: middle;\n",
       "    }\n",
       "\n",
       "    .dataframe tbody tr th {\n",
       "        vertical-align: top;\n",
       "    }\n",
       "\n",
       "    .dataframe thead th {\n",
       "        text-align: right;\n",
       "    }\n",
       "</style>\n",
       "<table border=\"1\" class=\"dataframe\">\n",
       "  <thead>\n",
       "    <tr style=\"text-align: right;\">\n",
       "      <th></th>\n",
       "      <th>House_id</th>\n",
       "      <th>Price</th>\n",
       "      <th>District</th>\n",
       "      <th>Room_area_floor</th>\n",
       "      <th>Renovation_types</th>\n",
       "      <th>Built_years</th>\n",
       "      <th>District_name</th>\n",
       "      <th>Street</th>\n",
       "    </tr>\n",
       "  </thead>\n",
       "  <tbody>\n",
       "    <tr>\n",
       "      <th>111</th>\n",
       "      <td>7225440</td>\n",
       "      <td>283000000</td>\n",
       "      <td>Салар посёлок, ул. Бойджигит (6.2 км до центра...</td>\n",
       "      <td>2-комн.  квартира, 48м², 3/4 этаж</td>\n",
       "      <td>Косметический ремонт</td>\n",
       "      <td>3 из 4</td>\n",
       "      <td>Салар</td>\n",
       "      <td>посёлок, ул. Бойджигит (6.2 км до центра)На карте</td>\n",
       "    </tr>\n",
       "    <tr>\n",
       "      <th>113</th>\n",
       "      <td>7225145</td>\n",
       "      <td>272000000</td>\n",
       "      <td>Салар посёлок, ул. Бойджигит (6.2 км до центра...</td>\n",
       "      <td>2-комн.  квартира, 48м², 1/4 этаж</td>\n",
       "      <td>Частичный ремонт</td>\n",
       "      <td>1 из 4</td>\n",
       "      <td>Салар</td>\n",
       "      <td>посёлок, ул. Бойджигит (6.2 км до центра)На карте</td>\n",
       "    </tr>\n",
       "    <tr>\n",
       "      <th>202</th>\n",
       "      <td>7140646</td>\n",
       "      <td>360000000</td>\n",
       "      <td>Салар посёлок, ул. Университетская (6.2 км до ...</td>\n",
       "      <td>3-комн.  квартира, 65м², 1/4 этаж</td>\n",
       "      <td>Частичный ремонт</td>\n",
       "      <td>1 из 4</td>\n",
       "      <td>Салар</td>\n",
       "      <td>посёлок, ул. Университетская (6.2 км до центра...</td>\n",
       "    </tr>\n",
       "  </tbody>\n",
       "</table>\n",
       "</div>"
      ],
      "text/plain": [
       "     House_id      Price                                           District  \\\n",
       "111   7225440  283000000  Салар посёлок, ул. Бойджигит (6.2 км до центра...   \n",
       "113   7225145  272000000  Салар посёлок, ул. Бойджигит (6.2 км до центра...   \n",
       "202   7140646  360000000  Салар посёлок, ул. Университетская (6.2 км до ...   \n",
       "\n",
       "                       Room_area_floor      Renovation_types Built_years  \\\n",
       "111  2-комн.  квартира, 48м², 3/4 этаж  Косметический ремонт      3 из 4   \n",
       "113  2-комн.  квартира, 48м², 1/4 этаж      Частичный ремонт      1 из 4   \n",
       "202  3-комн.  квартира, 65м², 1/4 этаж      Частичный ремонт      1 из 4   \n",
       "\n",
       "    District_name                                             Street  \n",
       "111         Салар  посёлок, ул. Бойджигит (6.2 км до центра)На карте  \n",
       "113         Салар  посёлок, ул. Бойджигит (6.2 км до центра)На карте  \n",
       "202         Салар  посёлок, ул. Университетская (6.2 км до центра...  "
      ]
     },
     "execution_count": 43,
     "metadata": {},
     "output_type": "execute_result"
    }
   ],
   "source": [
    "df[df['District_name'] == 'Салар']"
   ]
  },
  {
   "cell_type": "code",
   "execution_count": 44,
   "id": "32f92e51",
   "metadata": {},
   "outputs": [
    {
     "data": {
      "text/plain": [
       "Мирзо-Улугбекский    140\n",
       "Юнусабадский         119\n",
       "Яшнабадский          106\n",
       "Мирабадский          103\n",
       "Сергелийский          75\n",
       "Яккасарайский         69\n",
       "Чиланзарский          55\n",
       "Шайхантахурский       52\n",
       "Бектемирский          25\n",
       "Алмазарский           24\n",
       "Учтепинский            9\n",
       "Салар                  3\n",
       "Name: District_name, dtype: int64"
      ]
     },
     "execution_count": 44,
     "metadata": {},
     "output_type": "execute_result"
    }
   ],
   "source": [
    "df['District_name'].value_counts()"
   ]
  },
  {
   "cell_type": "code",
   "execution_count": 47,
   "id": "5c0492d2",
   "metadata": {},
   "outputs": [],
   "source": [
    "df['Price'] = df['Price'] / 1000000"
   ]
  },
  {
   "cell_type": "code",
   "execution_count": 48,
   "id": "12a2420d",
   "metadata": {},
   "outputs": [],
   "source": [
    "mean_price_by_district = df.groupby('District_name')['Price'].mean()"
   ]
  },
  {
   "cell_type": "code",
   "execution_count": 51,
   "id": "8f2272b0",
   "metadata": {},
   "outputs": [
    {
     "data": {
      "text/plain": [
       "District_name\n",
       "Мирзо-Улугбекский    1019.078571\n",
       "Мирабадский           960.514563\n",
       "Яккасарайский         846.130435\n",
       "Юнусабадский          835.537815\n",
       "Шайхантахурский       769.788462\n",
       "Яшнабадский           753.698113\n",
       "Учтепинский           540.777778\n",
       "Чиланзарский          528.727273\n",
       "Сергелийский          511.360000\n",
       "Бектемирский          415.520000\n",
       "Алмазарский           311.500000\n",
       "Салар                 305.000000\n",
       "Name: Price, dtype: float64"
      ]
     },
     "execution_count": 51,
     "metadata": {},
     "output_type": "execute_result"
    }
   ],
   "source": [
    "mean_price_by_district.sort_values(ascending = False)"
   ]
  },
  {
   "cell_type": "code",
   "execution_count": 52,
   "id": "b4f6d709",
   "metadata": {},
   "outputs": [
    {
     "data": {
      "text/html": [
       "<div>\n",
       "<style scoped>\n",
       "    .dataframe tbody tr th:only-of-type {\n",
       "        vertical-align: middle;\n",
       "    }\n",
       "\n",
       "    .dataframe tbody tr th {\n",
       "        vertical-align: top;\n",
       "    }\n",
       "\n",
       "    .dataframe thead th {\n",
       "        text-align: right;\n",
       "    }\n",
       "</style>\n",
       "<table border=\"1\" class=\"dataframe\">\n",
       "  <thead>\n",
       "    <tr style=\"text-align: right;\">\n",
       "      <th></th>\n",
       "      <th>House_id</th>\n",
       "      <th>Price</th>\n",
       "      <th>District</th>\n",
       "      <th>Room_area_floor</th>\n",
       "      <th>Renovation_types</th>\n",
       "      <th>Built_years</th>\n",
       "      <th>District_name</th>\n",
       "      <th>Street</th>\n",
       "    </tr>\n",
       "  </thead>\n",
       "  <tbody>\n",
       "    <tr>\n",
       "      <th>0</th>\n",
       "      <td>7258386</td>\n",
       "      <td>870.0</td>\n",
       "      <td>Мирабадский, ул. Авлиё-Ота (5.2 км до центра)Н...</td>\n",
       "      <td>3-комн.  квартира, 82м², 7/9 этаж</td>\n",
       "      <td>Косметический ремонт</td>\n",
       "      <td>7 из 9</td>\n",
       "      <td>Мирабадский</td>\n",
       "      <td>ул. Авлиё-Ота (5.2 км до центра)На карте</td>\n",
       "    </tr>\n",
       "    <tr>\n",
       "      <th>1</th>\n",
       "      <td>7270325</td>\n",
       "      <td>210.0</td>\n",
       "      <td>Мирзо-Улугбекский, ул. Авайхон (0.2 км до цент...</td>\n",
       "      <td>1-комн.  квартира, 23м², 2/3 этаж</td>\n",
       "      <td>Косметический ремонт</td>\n",
       "      <td>2 из 3</td>\n",
       "      <td>Мирзо-Улугбекский</td>\n",
       "      <td>ул. Авайхон (0.2 км до центра)На карте</td>\n",
       "    </tr>\n",
       "    <tr>\n",
       "      <th>2</th>\n",
       "      <td>7248161</td>\n",
       "      <td>836.0</td>\n",
       "      <td>Чиланзарский, ул. 5-й квартал (10.8 км до цент...</td>\n",
       "      <td>3-комн.  квартира, 78м², 3/4 этаж</td>\n",
       "      <td>Косметический ремонт</td>\n",
       "      <td>1979</td>\n",
       "      <td>Чиланзарский</td>\n",
       "      <td>ул. 5-й квартал (10.8 км до центра)На карте</td>\n",
       "    </tr>\n",
       "    <tr>\n",
       "      <th>3</th>\n",
       "      <td>7235546</td>\n",
       "      <td>535.0</td>\n",
       "      <td>Мирзо-Улугбекский, ул. Мирзо Улугбека (0.2 км ...</td>\n",
       "      <td>2-комн.  квартира, 45м², 2/5 этаж</td>\n",
       "      <td>Косметический ремонт</td>\n",
       "      <td>2 из 5</td>\n",
       "      <td>Мирзо-Улугбекский</td>\n",
       "      <td>ул. Мирзо Улугбека (0.2 км до центра)На карте</td>\n",
       "    </tr>\n",
       "    <tr>\n",
       "      <th>4</th>\n",
       "      <td>7215874</td>\n",
       "      <td>754.0</td>\n",
       "      <td>Мирабадский, ул. Авлиё-Ота (5.2 км до центра)Н...</td>\n",
       "      <td>2-комн.  квартира, 66м², 3/4 этаж</td>\n",
       "      <td>Косметический ремонт</td>\n",
       "      <td>3 из 4</td>\n",
       "      <td>Мирабадский</td>\n",
       "      <td>ул. Авлиё-Ота (5.2 км до центра)На карте</td>\n",
       "    </tr>\n",
       "  </tbody>\n",
       "</table>\n",
       "</div>"
      ],
      "text/plain": [
       "   House_id  Price                                           District  \\\n",
       "0   7258386  870.0  Мирабадский, ул. Авлиё-Ота (5.2 км до центра)Н...   \n",
       "1   7270325  210.0  Мирзо-Улугбекский, ул. Авайхон (0.2 км до цент...   \n",
       "2   7248161  836.0  Чиланзарский, ул. 5-й квартал (10.8 км до цент...   \n",
       "3   7235546  535.0  Мирзо-Улугбекский, ул. Мирзо Улугбека (0.2 км ...   \n",
       "4   7215874  754.0  Мирабадский, ул. Авлиё-Ота (5.2 км до центра)Н...   \n",
       "\n",
       "                     Room_area_floor      Renovation_types Built_years  \\\n",
       "0  3-комн.  квартира, 82м², 7/9 этаж  Косметический ремонт      7 из 9   \n",
       "1  1-комн.  квартира, 23м², 2/3 этаж  Косметический ремонт      2 из 3   \n",
       "2  3-комн.  квартира, 78м², 3/4 этаж  Косметический ремонт        1979   \n",
       "3  2-комн.  квартира, 45м², 2/5 этаж  Косметический ремонт      2 из 5   \n",
       "4  2-комн.  квартира, 66м², 3/4 этаж  Косметический ремонт      3 из 4   \n",
       "\n",
       "       District_name                                         Street  \n",
       "0        Мирабадский       ул. Авлиё-Ота (5.2 км до центра)На карте  \n",
       "1  Мирзо-Улугбекский         ул. Авайхон (0.2 км до центра)На карте  \n",
       "2       Чиланзарский    ул. 5-й квартал (10.8 км до центра)На карте  \n",
       "3  Мирзо-Улугбекский  ул. Мирзо Улугбека (0.2 км до центра)На карте  \n",
       "4        Мирабадский       ул. Авлиё-Ота (5.2 км до центра)На карте  "
      ]
     },
     "execution_count": 52,
     "metadata": {},
     "output_type": "execute_result"
    }
   ],
   "source": [
    "df.head()"
   ]
  },
  {
   "cell_type": "code",
   "execution_count": 55,
   "id": "f9276468",
   "metadata": {},
   "outputs": [],
   "source": [
    "df[['No_of_rooms', 'Area', 'Floor']] = df['Room_area_floor'].str.split(',', expand=True)"
   ]
  },
  {
   "cell_type": "code",
   "execution_count": 57,
   "id": "509c0f0d",
   "metadata": {},
   "outputs": [
    {
     "data": {
      "text/html": [
       "<div>\n",
       "<style scoped>\n",
       "    .dataframe tbody tr th:only-of-type {\n",
       "        vertical-align: middle;\n",
       "    }\n",
       "\n",
       "    .dataframe tbody tr th {\n",
       "        vertical-align: top;\n",
       "    }\n",
       "\n",
       "    .dataframe thead th {\n",
       "        text-align: right;\n",
       "    }\n",
       "</style>\n",
       "<table border=\"1\" class=\"dataframe\">\n",
       "  <thead>\n",
       "    <tr style=\"text-align: right;\">\n",
       "      <th></th>\n",
       "      <th>House_id</th>\n",
       "      <th>Price</th>\n",
       "      <th>District</th>\n",
       "      <th>Room_area_floor</th>\n",
       "      <th>Renovation_types</th>\n",
       "      <th>Built_years</th>\n",
       "      <th>District_name</th>\n",
       "      <th>Street</th>\n",
       "      <th>No_of_rooms</th>\n",
       "      <th>Area</th>\n",
       "      <th>Floor</th>\n",
       "    </tr>\n",
       "  </thead>\n",
       "  <tbody>\n",
       "    <tr>\n",
       "      <th>0</th>\n",
       "      <td>7258386</td>\n",
       "      <td>870.0</td>\n",
       "      <td>Мирабадский, ул. Авлиё-Ота (5.2 км до центра)Н...</td>\n",
       "      <td>3-комн.  квартира, 82м², 7/9 этаж</td>\n",
       "      <td>Косметический ремонт</td>\n",
       "      <td>7 из 9</td>\n",
       "      <td>Мирабадский</td>\n",
       "      <td>ул. Авлиё-Ота (5.2 км до центра)На карте</td>\n",
       "      <td>3-комн.  квартира</td>\n",
       "      <td>82м²</td>\n",
       "      <td>7/9 этаж</td>\n",
       "    </tr>\n",
       "    <tr>\n",
       "      <th>1</th>\n",
       "      <td>7270325</td>\n",
       "      <td>210.0</td>\n",
       "      <td>Мирзо-Улугбекский, ул. Авайхон (0.2 км до цент...</td>\n",
       "      <td>1-комн.  квартира, 23м², 2/3 этаж</td>\n",
       "      <td>Косметический ремонт</td>\n",
       "      <td>2 из 3</td>\n",
       "      <td>Мирзо-Улугбекский</td>\n",
       "      <td>ул. Авайхон (0.2 км до центра)На карте</td>\n",
       "      <td>1-комн.  квартира</td>\n",
       "      <td>23м²</td>\n",
       "      <td>2/3 этаж</td>\n",
       "    </tr>\n",
       "    <tr>\n",
       "      <th>2</th>\n",
       "      <td>7248161</td>\n",
       "      <td>836.0</td>\n",
       "      <td>Чиланзарский, ул. 5-й квартал (10.8 км до цент...</td>\n",
       "      <td>3-комн.  квартира, 78м², 3/4 этаж</td>\n",
       "      <td>Косметический ремонт</td>\n",
       "      <td>1979</td>\n",
       "      <td>Чиланзарский</td>\n",
       "      <td>ул. 5-й квартал (10.8 км до центра)На карте</td>\n",
       "      <td>3-комн.  квартира</td>\n",
       "      <td>78м²</td>\n",
       "      <td>3/4 этаж</td>\n",
       "    </tr>\n",
       "    <tr>\n",
       "      <th>3</th>\n",
       "      <td>7235546</td>\n",
       "      <td>535.0</td>\n",
       "      <td>Мирзо-Улугбекский, ул. Мирзо Улугбека (0.2 км ...</td>\n",
       "      <td>2-комн.  квартира, 45м², 2/5 этаж</td>\n",
       "      <td>Косметический ремонт</td>\n",
       "      <td>2 из 5</td>\n",
       "      <td>Мирзо-Улугбекский</td>\n",
       "      <td>ул. Мирзо Улугбека (0.2 км до центра)На карте</td>\n",
       "      <td>2-комн.  квартира</td>\n",
       "      <td>45м²</td>\n",
       "      <td>2/5 этаж</td>\n",
       "    </tr>\n",
       "    <tr>\n",
       "      <th>4</th>\n",
       "      <td>7215874</td>\n",
       "      <td>754.0</td>\n",
       "      <td>Мирабадский, ул. Авлиё-Ота (5.2 км до центра)Н...</td>\n",
       "      <td>2-комн.  квартира, 66м², 3/4 этаж</td>\n",
       "      <td>Косметический ремонт</td>\n",
       "      <td>3 из 4</td>\n",
       "      <td>Мирабадский</td>\n",
       "      <td>ул. Авлиё-Ота (5.2 км до центра)На карте</td>\n",
       "      <td>2-комн.  квартира</td>\n",
       "      <td>66м²</td>\n",
       "      <td>3/4 этаж</td>\n",
       "    </tr>\n",
       "  </tbody>\n",
       "</table>\n",
       "</div>"
      ],
      "text/plain": [
       "   House_id  Price                                           District  \\\n",
       "0   7258386  870.0  Мирабадский, ул. Авлиё-Ота (5.2 км до центра)Н...   \n",
       "1   7270325  210.0  Мирзо-Улугбекский, ул. Авайхон (0.2 км до цент...   \n",
       "2   7248161  836.0  Чиланзарский, ул. 5-й квартал (10.8 км до цент...   \n",
       "3   7235546  535.0  Мирзо-Улугбекский, ул. Мирзо Улугбека (0.2 км ...   \n",
       "4   7215874  754.0  Мирабадский, ул. Авлиё-Ота (5.2 км до центра)Н...   \n",
       "\n",
       "                     Room_area_floor      Renovation_types Built_years  \\\n",
       "0  3-комн.  квартира, 82м², 7/9 этаж  Косметический ремонт      7 из 9   \n",
       "1  1-комн.  квартира, 23м², 2/3 этаж  Косметический ремонт      2 из 3   \n",
       "2  3-комн.  квартира, 78м², 3/4 этаж  Косметический ремонт        1979   \n",
       "3  2-комн.  квартира, 45м², 2/5 этаж  Косметический ремонт      2 из 5   \n",
       "4  2-комн.  квартира, 66м², 3/4 этаж  Косметический ремонт      3 из 4   \n",
       "\n",
       "       District_name                                         Street  \\\n",
       "0        Мирабадский       ул. Авлиё-Ота (5.2 км до центра)На карте   \n",
       "1  Мирзо-Улугбекский         ул. Авайхон (0.2 км до центра)На карте   \n",
       "2       Чиланзарский    ул. 5-й квартал (10.8 км до центра)На карте   \n",
       "3  Мирзо-Улугбекский  ул. Мирзо Улугбека (0.2 км до центра)На карте   \n",
       "4        Мирабадский       ул. Авлиё-Ота (5.2 км до центра)На карте   \n",
       "\n",
       "         No_of_rooms   Area      Floor  \n",
       "0  3-комн.  квартира   82м²   7/9 этаж  \n",
       "1  1-комн.  квартира   23м²   2/3 этаж  \n",
       "2  3-комн.  квартира   78м²   3/4 этаж  \n",
       "3  2-комн.  квартира   45м²   2/5 этаж  \n",
       "4  2-комн.  квартира   66м²   3/4 этаж  "
      ]
     },
     "execution_count": 57,
     "metadata": {},
     "output_type": "execute_result"
    }
   ],
   "source": [
    "df.head()"
   ]
  },
  {
   "cell_type": "code",
   "execution_count": 58,
   "id": "d135582b",
   "metadata": {},
   "outputs": [],
   "source": [
    "df['Area'] = df['Area'].str[:-2]"
   ]
  },
  {
   "cell_type": "code",
   "execution_count": 59,
   "id": "0ecf1c71",
   "metadata": {},
   "outputs": [
    {
     "data": {
      "text/html": [
       "<div>\n",
       "<style scoped>\n",
       "    .dataframe tbody tr th:only-of-type {\n",
       "        vertical-align: middle;\n",
       "    }\n",
       "\n",
       "    .dataframe tbody tr th {\n",
       "        vertical-align: top;\n",
       "    }\n",
       "\n",
       "    .dataframe thead th {\n",
       "        text-align: right;\n",
       "    }\n",
       "</style>\n",
       "<table border=\"1\" class=\"dataframe\">\n",
       "  <thead>\n",
       "    <tr style=\"text-align: right;\">\n",
       "      <th></th>\n",
       "      <th>House_id</th>\n",
       "      <th>Price</th>\n",
       "      <th>District</th>\n",
       "      <th>Room_area_floor</th>\n",
       "      <th>Renovation_types</th>\n",
       "      <th>Built_years</th>\n",
       "      <th>District_name</th>\n",
       "      <th>Street</th>\n",
       "      <th>No_of_rooms</th>\n",
       "      <th>Area</th>\n",
       "      <th>Floor</th>\n",
       "    </tr>\n",
       "  </thead>\n",
       "  <tbody>\n",
       "    <tr>\n",
       "      <th>0</th>\n",
       "      <td>7258386</td>\n",
       "      <td>870.0</td>\n",
       "      <td>Мирабадский, ул. Авлиё-Ота (5.2 км до центра)Н...</td>\n",
       "      <td>3-комн.  квартира, 82м², 7/9 этаж</td>\n",
       "      <td>Косметический ремонт</td>\n",
       "      <td>7 из 9</td>\n",
       "      <td>Мирабадский</td>\n",
       "      <td>ул. Авлиё-Ота (5.2 км до центра)На карте</td>\n",
       "      <td>3-комн.  квартира</td>\n",
       "      <td>82</td>\n",
       "      <td>7/9 этаж</td>\n",
       "    </tr>\n",
       "    <tr>\n",
       "      <th>1</th>\n",
       "      <td>7270325</td>\n",
       "      <td>210.0</td>\n",
       "      <td>Мирзо-Улугбекский, ул. Авайхон (0.2 км до цент...</td>\n",
       "      <td>1-комн.  квартира, 23м², 2/3 этаж</td>\n",
       "      <td>Косметический ремонт</td>\n",
       "      <td>2 из 3</td>\n",
       "      <td>Мирзо-Улугбекский</td>\n",
       "      <td>ул. Авайхон (0.2 км до центра)На карте</td>\n",
       "      <td>1-комн.  квартира</td>\n",
       "      <td>23</td>\n",
       "      <td>2/3 этаж</td>\n",
       "    </tr>\n",
       "    <tr>\n",
       "      <th>2</th>\n",
       "      <td>7248161</td>\n",
       "      <td>836.0</td>\n",
       "      <td>Чиланзарский, ул. 5-й квартал (10.8 км до цент...</td>\n",
       "      <td>3-комн.  квартира, 78м², 3/4 этаж</td>\n",
       "      <td>Косметический ремонт</td>\n",
       "      <td>1979</td>\n",
       "      <td>Чиланзарский</td>\n",
       "      <td>ул. 5-й квартал (10.8 км до центра)На карте</td>\n",
       "      <td>3-комн.  квартира</td>\n",
       "      <td>78</td>\n",
       "      <td>3/4 этаж</td>\n",
       "    </tr>\n",
       "    <tr>\n",
       "      <th>3</th>\n",
       "      <td>7235546</td>\n",
       "      <td>535.0</td>\n",
       "      <td>Мирзо-Улугбекский, ул. Мирзо Улугбека (0.2 км ...</td>\n",
       "      <td>2-комн.  квартира, 45м², 2/5 этаж</td>\n",
       "      <td>Косметический ремонт</td>\n",
       "      <td>2 из 5</td>\n",
       "      <td>Мирзо-Улугбекский</td>\n",
       "      <td>ул. Мирзо Улугбека (0.2 км до центра)На карте</td>\n",
       "      <td>2-комн.  квартира</td>\n",
       "      <td>45</td>\n",
       "      <td>2/5 этаж</td>\n",
       "    </tr>\n",
       "    <tr>\n",
       "      <th>4</th>\n",
       "      <td>7215874</td>\n",
       "      <td>754.0</td>\n",
       "      <td>Мирабадский, ул. Авлиё-Ота (5.2 км до центра)Н...</td>\n",
       "      <td>2-комн.  квартира, 66м², 3/4 этаж</td>\n",
       "      <td>Косметический ремонт</td>\n",
       "      <td>3 из 4</td>\n",
       "      <td>Мирабадский</td>\n",
       "      <td>ул. Авлиё-Ота (5.2 км до центра)На карте</td>\n",
       "      <td>2-комн.  квартира</td>\n",
       "      <td>66</td>\n",
       "      <td>3/4 этаж</td>\n",
       "    </tr>\n",
       "  </tbody>\n",
       "</table>\n",
       "</div>"
      ],
      "text/plain": [
       "   House_id  Price                                           District  \\\n",
       "0   7258386  870.0  Мирабадский, ул. Авлиё-Ота (5.2 км до центра)Н...   \n",
       "1   7270325  210.0  Мирзо-Улугбекский, ул. Авайхон (0.2 км до цент...   \n",
       "2   7248161  836.0  Чиланзарский, ул. 5-й квартал (10.8 км до цент...   \n",
       "3   7235546  535.0  Мирзо-Улугбекский, ул. Мирзо Улугбека (0.2 км ...   \n",
       "4   7215874  754.0  Мирабадский, ул. Авлиё-Ота (5.2 км до центра)Н...   \n",
       "\n",
       "                     Room_area_floor      Renovation_types Built_years  \\\n",
       "0  3-комн.  квартира, 82м², 7/9 этаж  Косметический ремонт      7 из 9   \n",
       "1  1-комн.  квартира, 23м², 2/3 этаж  Косметический ремонт      2 из 3   \n",
       "2  3-комн.  квартира, 78м², 3/4 этаж  Косметический ремонт        1979   \n",
       "3  2-комн.  квартира, 45м², 2/5 этаж  Косметический ремонт      2 из 5   \n",
       "4  2-комн.  квартира, 66м², 3/4 этаж  Косметический ремонт      3 из 4   \n",
       "\n",
       "       District_name                                         Street  \\\n",
       "0        Мирабадский       ул. Авлиё-Ота (5.2 км до центра)На карте   \n",
       "1  Мирзо-Улугбекский         ул. Авайхон (0.2 км до центра)На карте   \n",
       "2       Чиланзарский    ул. 5-й квартал (10.8 км до центра)На карте   \n",
       "3  Мирзо-Улугбекский  ул. Мирзо Улугбека (0.2 км до центра)На карте   \n",
       "4        Мирабадский       ул. Авлиё-Ота (5.2 км до центра)На карте   \n",
       "\n",
       "         No_of_rooms Area      Floor  \n",
       "0  3-комн.  квартира   82   7/9 этаж  \n",
       "1  1-комн.  квартира   23   2/3 этаж  \n",
       "2  3-комн.  квартира   78   3/4 этаж  \n",
       "3  2-комн.  квартира   45   2/5 этаж  \n",
       "4  2-комн.  квартира   66   3/4 этаж  "
      ]
     },
     "execution_count": 59,
     "metadata": {},
     "output_type": "execute_result"
    }
   ],
   "source": [
    "df.head()"
   ]
  },
  {
   "cell_type": "code",
   "execution_count": 60,
   "id": "d6682820",
   "metadata": {},
   "outputs": [
    {
     "name": "stdout",
     "output_type": "stream",
     "text": [
      "<class 'pandas.core.frame.DataFrame'>\n",
      "RangeIndex: 780 entries, 0 to 779\n",
      "Data columns (total 11 columns):\n",
      " #   Column            Non-Null Count  Dtype  \n",
      "---  ------            --------------  -----  \n",
      " 0   House_id          780 non-null    int64  \n",
      " 1   Price             780 non-null    float64\n",
      " 2   District          780 non-null    object \n",
      " 3   Room_area_floor   780 non-null    object \n",
      " 4   Renovation_types  780 non-null    object \n",
      " 5   Built_years       780 non-null    object \n",
      " 6   District_name     780 non-null    object \n",
      " 7   Street            780 non-null    object \n",
      " 8   No_of_rooms       780 non-null    object \n",
      " 9   Area              780 non-null    object \n",
      " 10  Floor             780 non-null    object \n",
      "dtypes: float64(1), int64(1), object(9)\n",
      "memory usage: 67.2+ KB\n"
     ]
    }
   ],
   "source": [
    "df.info()"
   ]
  },
  {
   "cell_type": "code",
   "execution_count": 61,
   "id": "60f734c0",
   "metadata": {},
   "outputs": [],
   "source": [
    "df['Area'] = pd.to_numeric(df['Area'])"
   ]
  },
  {
   "cell_type": "code",
   "execution_count": 63,
   "id": "7fc17543",
   "metadata": {},
   "outputs": [
    {
     "data": {
      "text/plain": [
       "House_id              int64\n",
       "Price               float64\n",
       "District             object\n",
       "Room_area_floor      object\n",
       "Renovation_types     object\n",
       "Built_years          object\n",
       "District_name        object\n",
       "Street               object\n",
       "No_of_rooms          object\n",
       "Area                float64\n",
       "Floor                object\n",
       "dtype: object"
      ]
     },
     "execution_count": 63,
     "metadata": {},
     "output_type": "execute_result"
    }
   ],
   "source": [
    "df.dtypes"
   ]
  },
  {
   "cell_type": "code",
   "execution_count": 64,
   "id": "c20761eb",
   "metadata": {},
   "outputs": [],
   "source": [
    "df['Floor'] = df['Floor'].map(lambda x: x.rstrip('этаж'))"
   ]
  },
  {
   "cell_type": "code",
   "execution_count": 65,
   "id": "dfc829c1",
   "metadata": {},
   "outputs": [
    {
     "data": {
      "text/html": [
       "<div>\n",
       "<style scoped>\n",
       "    .dataframe tbody tr th:only-of-type {\n",
       "        vertical-align: middle;\n",
       "    }\n",
       "\n",
       "    .dataframe tbody tr th {\n",
       "        vertical-align: top;\n",
       "    }\n",
       "\n",
       "    .dataframe thead th {\n",
       "        text-align: right;\n",
       "    }\n",
       "</style>\n",
       "<table border=\"1\" class=\"dataframe\">\n",
       "  <thead>\n",
       "    <tr style=\"text-align: right;\">\n",
       "      <th></th>\n",
       "      <th>House_id</th>\n",
       "      <th>Price</th>\n",
       "      <th>District</th>\n",
       "      <th>Room_area_floor</th>\n",
       "      <th>Renovation_types</th>\n",
       "      <th>Built_years</th>\n",
       "      <th>District_name</th>\n",
       "      <th>Street</th>\n",
       "      <th>No_of_rooms</th>\n",
       "      <th>Area</th>\n",
       "      <th>Floor</th>\n",
       "    </tr>\n",
       "  </thead>\n",
       "  <tbody>\n",
       "    <tr>\n",
       "      <th>0</th>\n",
       "      <td>7258386</td>\n",
       "      <td>870.0</td>\n",
       "      <td>Мирабадский, ул. Авлиё-Ота (5.2 км до центра)Н...</td>\n",
       "      <td>3-комн.  квартира, 82м², 7/9 этаж</td>\n",
       "      <td>Косметический ремонт</td>\n",
       "      <td>7 из 9</td>\n",
       "      <td>Мирабадский</td>\n",
       "      <td>ул. Авлиё-Ота (5.2 км до центра)На карте</td>\n",
       "      <td>3-комн.  квартира</td>\n",
       "      <td>82.0</td>\n",
       "      <td>7/9</td>\n",
       "    </tr>\n",
       "    <tr>\n",
       "      <th>1</th>\n",
       "      <td>7270325</td>\n",
       "      <td>210.0</td>\n",
       "      <td>Мирзо-Улугбекский, ул. Авайхон (0.2 км до цент...</td>\n",
       "      <td>1-комн.  квартира, 23м², 2/3 этаж</td>\n",
       "      <td>Косметический ремонт</td>\n",
       "      <td>2 из 3</td>\n",
       "      <td>Мирзо-Улугбекский</td>\n",
       "      <td>ул. Авайхон (0.2 км до центра)На карте</td>\n",
       "      <td>1-комн.  квартира</td>\n",
       "      <td>23.0</td>\n",
       "      <td>2/3</td>\n",
       "    </tr>\n",
       "    <tr>\n",
       "      <th>2</th>\n",
       "      <td>7248161</td>\n",
       "      <td>836.0</td>\n",
       "      <td>Чиланзарский, ул. 5-й квартал (10.8 км до цент...</td>\n",
       "      <td>3-комн.  квартира, 78м², 3/4 этаж</td>\n",
       "      <td>Косметический ремонт</td>\n",
       "      <td>1979</td>\n",
       "      <td>Чиланзарский</td>\n",
       "      <td>ул. 5-й квартал (10.8 км до центра)На карте</td>\n",
       "      <td>3-комн.  квартира</td>\n",
       "      <td>78.0</td>\n",
       "      <td>3/4</td>\n",
       "    </tr>\n",
       "    <tr>\n",
       "      <th>3</th>\n",
       "      <td>7235546</td>\n",
       "      <td>535.0</td>\n",
       "      <td>Мирзо-Улугбекский, ул. Мирзо Улугбека (0.2 км ...</td>\n",
       "      <td>2-комн.  квартира, 45м², 2/5 этаж</td>\n",
       "      <td>Косметический ремонт</td>\n",
       "      <td>2 из 5</td>\n",
       "      <td>Мирзо-Улугбекский</td>\n",
       "      <td>ул. Мирзо Улугбека (0.2 км до центра)На карте</td>\n",
       "      <td>2-комн.  квартира</td>\n",
       "      <td>45.0</td>\n",
       "      <td>2/5</td>\n",
       "    </tr>\n",
       "    <tr>\n",
       "      <th>4</th>\n",
       "      <td>7215874</td>\n",
       "      <td>754.0</td>\n",
       "      <td>Мирабадский, ул. Авлиё-Ота (5.2 км до центра)Н...</td>\n",
       "      <td>2-комн.  квартира, 66м², 3/4 этаж</td>\n",
       "      <td>Косметический ремонт</td>\n",
       "      <td>3 из 4</td>\n",
       "      <td>Мирабадский</td>\n",
       "      <td>ул. Авлиё-Ота (5.2 км до центра)На карте</td>\n",
       "      <td>2-комн.  квартира</td>\n",
       "      <td>66.0</td>\n",
       "      <td>3/4</td>\n",
       "    </tr>\n",
       "  </tbody>\n",
       "</table>\n",
       "</div>"
      ],
      "text/plain": [
       "   House_id  Price                                           District  \\\n",
       "0   7258386  870.0  Мирабадский, ул. Авлиё-Ота (5.2 км до центра)Н...   \n",
       "1   7270325  210.0  Мирзо-Улугбекский, ул. Авайхон (0.2 км до цент...   \n",
       "2   7248161  836.0  Чиланзарский, ул. 5-й квартал (10.8 км до цент...   \n",
       "3   7235546  535.0  Мирзо-Улугбекский, ул. Мирзо Улугбека (0.2 км ...   \n",
       "4   7215874  754.0  Мирабадский, ул. Авлиё-Ота (5.2 км до центра)Н...   \n",
       "\n",
       "                     Room_area_floor      Renovation_types Built_years  \\\n",
       "0  3-комн.  квартира, 82м², 7/9 этаж  Косметический ремонт      7 из 9   \n",
       "1  1-комн.  квартира, 23м², 2/3 этаж  Косметический ремонт      2 из 3   \n",
       "2  3-комн.  квартира, 78м², 3/4 этаж  Косметический ремонт        1979   \n",
       "3  2-комн.  квартира, 45м², 2/5 этаж  Косметический ремонт      2 из 5   \n",
       "4  2-комн.  квартира, 66м², 3/4 этаж  Косметический ремонт      3 из 4   \n",
       "\n",
       "       District_name                                         Street  \\\n",
       "0        Мирабадский       ул. Авлиё-Ота (5.2 км до центра)На карте   \n",
       "1  Мирзо-Улугбекский         ул. Авайхон (0.2 км до центра)На карте   \n",
       "2       Чиланзарский    ул. 5-й квартал (10.8 км до центра)На карте   \n",
       "3  Мирзо-Улугбекский  ул. Мирзо Улугбека (0.2 км до центра)На карте   \n",
       "4        Мирабадский       ул. Авлиё-Ота (5.2 км до центра)На карте   \n",
       "\n",
       "         No_of_rooms  Area  Floor  \n",
       "0  3-комн.  квартира  82.0   7/9   \n",
       "1  1-комн.  квартира  23.0   2/3   \n",
       "2  3-комн.  квартира  78.0   3/4   \n",
       "3  2-комн.  квартира  45.0   2/5   \n",
       "4  2-комн.  квартира  66.0   3/4   "
      ]
     },
     "execution_count": 65,
     "metadata": {},
     "output_type": "execute_result"
    }
   ],
   "source": [
    "df.head()"
   ]
  },
  {
   "cell_type": "code",
   "execution_count": 67,
   "id": "e564eecd",
   "metadata": {},
   "outputs": [],
   "source": [
    "room_types = df['No_of_rooms'].unique()"
   ]
  },
  {
   "cell_type": "code",
   "execution_count": 68,
   "id": "70dcd06b",
   "metadata": {},
   "outputs": [
    {
     "data": {
      "text/plain": [
       "array(['3-комн.  квартира', '1-комн.  квартира', '2-комн.  квартира',\n",
       "       '4-комн.  квартира', '10-комн.  квартира', '7-комн.  квартира',\n",
       "       'Студия', '5-комн.  квартира', '9-комн.  квартира',\n",
       "       '6-комн.  квартира', '8-комн.  квартира'], dtype=object)"
      ]
     },
     "execution_count": 68,
     "metadata": {},
     "output_type": "execute_result"
    }
   ],
   "source": [
    "room_types"
   ]
  },
  {
   "cell_type": "code",
   "execution_count": 69,
   "id": "323d86f5",
   "metadata": {},
   "outputs": [
    {
     "name": "stdout",
     "output_type": "stream",
     "text": [
      "3-комн.  квартира     323\n",
      "2-комн.  квартира     219\n",
      "4-комн.  квартира     123\n",
      "1-комн.  квартира      50\n",
      "Студия                 21\n",
      "7-комн.  квартира      20\n",
      "10-комн.  квартира     17\n",
      "6-комн.  квартира       3\n",
      "5-комн.  квартира       2\n",
      "9-комн.  квартира       1\n",
      "8-комн.  квартира       1\n",
      "Name: No_of_rooms, dtype: int64\n"
     ]
    }
   ],
   "source": [
    "print(df['No_of_rooms'].value_counts())"
   ]
  },
  {
   "cell_type": "code",
   "execution_count": null,
   "id": "d547b44c",
   "metadata": {},
   "outputs": [],
   "source": [
    "# drop_columns = ['Студия','5-комн. квартира', '7-комн. квартира', 'Апартаменты', 'Малосемейка']\n",
    "# mask = df['Rooms'].isin(drop_columns)\n",
    "# df = df[~mask]"
   ]
  },
  {
   "cell_type": "code",
   "execution_count": null,
   "id": "fc189982",
   "metadata": {},
   "outputs": [],
   "source": [
    "df.to_excel(r\"../data/clean/dataset_cleaned_4.xlsx\")  "
   ]
  }
 ],
 "metadata": {
  "kernelspec": {
   "display_name": "Python 3",
   "language": "python",
   "name": "python3"
  },
  "language_info": {
   "codemirror_mode": {
    "name": "ipython",
    "version": 3
   },
   "file_extension": ".py",
   "mimetype": "text/x-python",
   "name": "python",
   "nbconvert_exporter": "python",
   "pygments_lexer": "ipython3",
   "version": "3.8.8"
  }
 },
 "nbformat": 4,
 "nbformat_minor": 5
}
